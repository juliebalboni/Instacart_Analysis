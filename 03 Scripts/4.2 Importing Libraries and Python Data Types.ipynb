{
 "cells": [
  {
   "cell_type": "markdown",
   "id": "56852a4c",
   "metadata": {},
   "source": [
    "## 4.2 Importing Libraries and Python Data Types"
   ]
  },
  {
   "cell_type": "markdown",
   "id": "7976caf0",
   "metadata": {},
   "source": [
    "### Contents\n",
    "01 Importing Libraries\n",
    "\n",
    "02 Python Data Types"
   ]
  },
  {
   "cell_type": "markdown",
   "id": "c0966b37",
   "metadata": {},
   "source": [
    "### 01 Importing Libraries"
   ]
  },
  {
   "cell_type": "code",
   "execution_count": 1,
   "id": "bcc8caf4",
   "metadata": {},
   "outputs": [],
   "source": [
    "#Import libraries"
   ]
  },
  {
   "cell_type": "code",
   "execution_count": 2,
   "id": "39a8209c",
   "metadata": {},
   "outputs": [],
   "source": [
    "import pandas as pd"
   ]
  },
  {
   "cell_type": "code",
   "execution_count": 3,
   "id": "8237a1a7",
   "metadata": {},
   "outputs": [],
   "source": [
    "import numpy as np"
   ]
  },
  {
   "cell_type": "code",
   "execution_count": 4,
   "id": "cb293c82",
   "metadata": {},
   "outputs": [],
   "source": [
    "import os"
   ]
  },
  {
   "cell_type": "markdown",
   "id": "d3ac95f3",
   "metadata": {},
   "source": [
    "### 02 Python Data Types"
   ]
  },
  {
   "cell_type": "code",
   "execution_count": 5,
   "id": "c0d4a1a0",
   "metadata": {},
   "outputs": [],
   "source": [
    "#Code three different ways of reaching 100 by addition and subraction (4.7)"
   ]
  },
  {
   "cell_type": "code",
   "execution_count": null,
   "id": "13726bd4",
   "metadata": {},
   "outputs": [],
   "source": [
    "#Method 1"
   ]
  },
  {
   "cell_type": "code",
   "execution_count": 6,
   "id": "6933d97f",
   "metadata": {},
   "outputs": [],
   "source": [
    "x = 50"
   ]
  },
  {
   "cell_type": "code",
   "execution_count": 7,
   "id": "692e224d",
   "metadata": {},
   "outputs": [],
   "source": [
    "x = x + 50"
   ]
  },
  {
   "cell_type": "code",
   "execution_count": 8,
   "id": "0067d7b2",
   "metadata": {},
   "outputs": [
    {
     "name": "stdout",
     "output_type": "stream",
     "text": [
      "100\n"
     ]
    }
   ],
   "source": [
    "print(x)"
   ]
  },
  {
   "cell_type": "code",
   "execution_count": 9,
   "id": "e013c563",
   "metadata": {},
   "outputs": [],
   "source": [
    "#Method 2"
   ]
  },
  {
   "cell_type": "code",
   "execution_count": 10,
   "id": "5a1c8711",
   "metadata": {},
   "outputs": [],
   "source": [
    "y = 200"
   ]
  },
  {
   "cell_type": "code",
   "execution_count": 11,
   "id": "d9f7b99c",
   "metadata": {},
   "outputs": [],
   "source": [
    "z = y - x"
   ]
  },
  {
   "cell_type": "code",
   "execution_count": 12,
   "id": "8846a339",
   "metadata": {},
   "outputs": [
    {
     "name": "stdout",
     "output_type": "stream",
     "text": [
      "100\n"
     ]
    }
   ],
   "source": [
    "print(z)"
   ]
  },
  {
   "cell_type": "code",
   "execution_count": 13,
   "id": "aaa9aede",
   "metadata": {},
   "outputs": [],
   "source": [
    "#Method 3"
   ]
  },
  {
   "cell_type": "code",
   "execution_count": 14,
   "id": "67092c1d",
   "metadata": {},
   "outputs": [
    {
     "data": {
      "text/plain": [
       "100"
      ]
     },
     "execution_count": 14,
     "metadata": {},
     "output_type": "execute_result"
    }
   ],
   "source": [
    "y - 100"
   ]
  },
  {
   "cell_type": "code",
   "execution_count": 15,
   "id": "5cf360c7",
   "metadata": {},
   "outputs": [],
   "source": [
    "#Code 2 floating point variables and divide them by each other (4.8)"
   ]
  },
  {
   "cell_type": "code",
   "execution_count": 18,
   "id": "14652bd0",
   "metadata": {},
   "outputs": [],
   "source": [
    "a = 9.9"
   ]
  },
  {
   "cell_type": "code",
   "execution_count": 19,
   "id": "e4d74cdd",
   "metadata": {},
   "outputs": [],
   "source": [
    "b = 3.3"
   ]
  },
  {
   "cell_type": "code",
   "execution_count": 20,
   "id": "a7ff0f2b",
   "metadata": {},
   "outputs": [
    {
     "data": {
      "text/plain": [
       "3.0000000000000004"
      ]
     },
     "execution_count": 20,
     "metadata": {},
     "output_type": "execute_result"
    }
   ],
   "source": [
    "a/b"
   ]
  },
  {
   "cell_type": "code",
   "execution_count": 21,
   "id": "8683972c",
   "metadata": {},
   "outputs": [],
   "source": [
    "#Construct a short word made of separate strings (4.9)"
   ]
  },
  {
   "cell_type": "code",
   "execution_count": 22,
   "id": "5916f970",
   "metadata": {},
   "outputs": [],
   "source": [
    "s = \"storm\""
   ]
  },
  {
   "cell_type": "code",
   "execution_count": 23,
   "id": "ff246108",
   "metadata": {},
   "outputs": [],
   "source": [
    "t = 'thunder'"
   ]
  },
  {
   "cell_type": "code",
   "execution_count": 24,
   "id": "5d9ac72b",
   "metadata": {},
   "outputs": [
    {
     "data": {
      "text/plain": [
       "'thunderstorm'"
      ]
     },
     "execution_count": 24,
     "metadata": {},
     "output_type": "execute_result"
    }
   ],
   "source": [
    "t + s"
   ]
  },
  {
   "cell_type": "code",
   "execution_count": 25,
   "id": "acd27bbc",
   "metadata": {},
   "outputs": [],
   "source": [
    "#Construct 2 short sentences made of separate strings (4.10)"
   ]
  },
  {
   "cell_type": "code",
   "execution_count": 26,
   "id": "2995756f",
   "metadata": {},
   "outputs": [],
   "source": [
    "g = 'There is a thunderstorm warning, '"
   ]
  },
  {
   "cell_type": "code",
   "execution_count": 27,
   "id": "97a930c2",
   "metadata": {},
   "outputs": [],
   "source": [
    "h = 'and rain is pouring down outside.'"
   ]
  },
  {
   "cell_type": "code",
   "execution_count": 28,
   "id": "47c23aa6",
   "metadata": {},
   "outputs": [
    {
     "data": {
      "text/plain": [
       "'There is a thunderstorm warning, and rain is pouring down outside.'"
      ]
     },
     "execution_count": 28,
     "metadata": {},
     "output_type": "execute_result"
    }
   ],
   "source": [
    "g + h"
   ]
  }
 ],
 "metadata": {
  "kernelspec": {
   "display_name": "Python 3 (ipykernel)",
   "language": "python",
   "name": "python3"
  },
  "language_info": {
   "codemirror_mode": {
    "name": "ipython",
    "version": 3
   },
   "file_extension": ".py",
   "mimetype": "text/x-python",
   "name": "python",
   "nbconvert_exporter": "python",
   "pygments_lexer": "ipython3",
   "version": "3.9.12"
  }
 },
 "nbformat": 4,
 "nbformat_minor": 5
}
