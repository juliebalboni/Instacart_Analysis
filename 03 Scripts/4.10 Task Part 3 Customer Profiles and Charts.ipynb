{
 "cells": [
  {
   "cell_type": "markdown",
   "id": "c15d9b4f",
   "metadata": {},
   "source": [
    "## 4.10 Customer Profiles and Charts"
   ]
  },
  {
   "cell_type": "markdown",
   "id": "7c4764fe",
   "metadata": {},
   "source": [
    "### Contents\n",
    "\n",
    "01 Import Libraries and Data\n",
    "\n",
    "02 Goods Purchased\n",
    "\n",
    "03 Babies\n",
    "\n",
    "04 Pets\n",
    "\n",
    "05 Age Groups\n",
    "\n",
    "06 Household Groups\n",
    "\n",
    "07 Income Groups\n",
    "\n",
    "08 Customer Profile Groups\n",
    "\n",
    "09 Customer Profile Bar Chart\n",
    "\n",
    "10 Orders by Customer Profile Bar Chart\n",
    "\n",
    "11 Profile Comparison of Money Spent to Number of Orders Scatterplot\n",
    "\n",
    "12 Baby and Pet Statistics\n",
    "\n",
    "13 Export Data"
   ]
  },
  {
   "cell_type": "markdown",
   "id": "8b49ea0c",
   "metadata": {},
   "source": [
    "### 01 Import Libraries and Data"
   ]
  },
  {
   "cell_type": "code",
   "execution_count": 1,
   "id": "ab819406",
   "metadata": {},
   "outputs": [],
   "source": [
    "# Import libraries\n",
    "import pandas as pd\n",
    "import numpy as np\n",
    "import os\n",
    "import matplotlib.pyplot as plt\n",
    "import seaborn as sns\n",
    "import scipy"
   ]
  },
  {
   "cell_type": "code",
   "execution_count": 2,
   "id": "13bca980",
   "metadata": {},
   "outputs": [],
   "source": [
    "# Set the max columns option to None\n",
    "pd.set_option('display.max_columns', None)"
   ]
  },
  {
   "cell_type": "code",
   "execution_count": 3,
   "id": "434b4755",
   "metadata": {},
   "outputs": [],
   "source": [
    "# Create path variable for main project folder\n",
    "path = r'D:\\JupyterProjects\\06-2022 Instacart Basket Analysis'"
   ]
  },
  {
   "cell_type": "code",
   "execution_count": 4,
   "id": "6b291ba3",
   "metadata": {},
   "outputs": [],
   "source": [
    "df = pd.read_pickle(os.path.join(path, '02 Data', 'Prepared Data', 'final_exclude.pkl'))"
   ]
  },
  {
   "cell_type": "code",
   "execution_count": 5,
   "id": "7ac9edab",
   "metadata": {},
   "outputs": [
    {
     "data": {
      "text/html": [
       "<div>\n",
       "<style scoped>\n",
       "    .dataframe tbody tr th:only-of-type {\n",
       "        vertical-align: middle;\n",
       "    }\n",
       "\n",
       "    .dataframe tbody tr th {\n",
       "        vertical-align: top;\n",
       "    }\n",
       "\n",
       "    .dataframe thead th {\n",
       "        text-align: right;\n",
       "    }\n",
       "</style>\n",
       "<table border=\"1\" class=\"dataframe\">\n",
       "  <thead>\n",
       "    <tr style=\"text-align: right;\">\n",
       "      <th></th>\n",
       "      <th>order_id</th>\n",
       "      <th>user_id</th>\n",
       "      <th>order_number</th>\n",
       "      <th>orders_day_of_week</th>\n",
       "      <th>order_hour_of_day</th>\n",
       "      <th>days_since_prior_order</th>\n",
       "      <th>new_customer</th>\n",
       "      <th>product_id</th>\n",
       "      <th>add_to_cart_order</th>\n",
       "      <th>reordered</th>\n",
       "      <th>product_name</th>\n",
       "      <th>department_id</th>\n",
       "      <th>prices</th>\n",
       "      <th>price_range_loc</th>\n",
       "      <th>busiest_day</th>\n",
       "      <th>busiest_days</th>\n",
       "      <th>busiest_period_of_day</th>\n",
       "      <th>max_order</th>\n",
       "      <th>loyalty_flag</th>\n",
       "      <th>mean_price</th>\n",
       "      <th>spending_flag</th>\n",
       "      <th>median_days_prior</th>\n",
       "      <th>frequency_flag</th>\n",
       "      <th>gender</th>\n",
       "      <th>state</th>\n",
       "      <th>age</th>\n",
       "      <th>date_joined</th>\n",
       "      <th>no_of_dependents</th>\n",
       "      <th>fam_status</th>\n",
       "      <th>income</th>\n",
       "      <th>region</th>\n",
       "      <th>exclude</th>\n",
       "    </tr>\n",
       "  </thead>\n",
       "  <tbody>\n",
       "    <tr>\n",
       "      <th>0</th>\n",
       "      <td>2539329</td>\n",
       "      <td>1</td>\n",
       "      <td>1</td>\n",
       "      <td>2</td>\n",
       "      <td>8</td>\n",
       "      <td>NaN</td>\n",
       "      <td>True</td>\n",
       "      <td>196</td>\n",
       "      <td>1</td>\n",
       "      <td>0</td>\n",
       "      <td>Soda</td>\n",
       "      <td>7</td>\n",
       "      <td>9.0</td>\n",
       "      <td>Mid-range product</td>\n",
       "      <td>Regularly busy</td>\n",
       "      <td>Regularly busy</td>\n",
       "      <td>Average orders</td>\n",
       "      <td>10</td>\n",
       "      <td>New customer</td>\n",
       "      <td>6.367188</td>\n",
       "      <td>Low spender</td>\n",
       "      <td>20.5</td>\n",
       "      <td>Non-frequent customer</td>\n",
       "      <td>Female</td>\n",
       "      <td>Alabama</td>\n",
       "      <td>31</td>\n",
       "      <td>2/17/2019</td>\n",
       "      <td>3</td>\n",
       "      <td>married</td>\n",
       "      <td>40423</td>\n",
       "      <td>South</td>\n",
       "      <td>0</td>\n",
       "    </tr>\n",
       "    <tr>\n",
       "      <th>1</th>\n",
       "      <td>2398795</td>\n",
       "      <td>1</td>\n",
       "      <td>2</td>\n",
       "      <td>3</td>\n",
       "      <td>7</td>\n",
       "      <td>15.0</td>\n",
       "      <td>False</td>\n",
       "      <td>196</td>\n",
       "      <td>1</td>\n",
       "      <td>1</td>\n",
       "      <td>Soda</td>\n",
       "      <td>7</td>\n",
       "      <td>9.0</td>\n",
       "      <td>Mid-range product</td>\n",
       "      <td>Regularly busy</td>\n",
       "      <td>Slowest days</td>\n",
       "      <td>Average orders</td>\n",
       "      <td>10</td>\n",
       "      <td>New customer</td>\n",
       "      <td>6.367188</td>\n",
       "      <td>Low spender</td>\n",
       "      <td>20.5</td>\n",
       "      <td>Non-frequent customer</td>\n",
       "      <td>Female</td>\n",
       "      <td>Alabama</td>\n",
       "      <td>31</td>\n",
       "      <td>2/17/2019</td>\n",
       "      <td>3</td>\n",
       "      <td>married</td>\n",
       "      <td>40423</td>\n",
       "      <td>South</td>\n",
       "      <td>0</td>\n",
       "    </tr>\n",
       "    <tr>\n",
       "      <th>2</th>\n",
       "      <td>473747</td>\n",
       "      <td>1</td>\n",
       "      <td>3</td>\n",
       "      <td>3</td>\n",
       "      <td>12</td>\n",
       "      <td>21.0</td>\n",
       "      <td>False</td>\n",
       "      <td>196</td>\n",
       "      <td>1</td>\n",
       "      <td>1</td>\n",
       "      <td>Soda</td>\n",
       "      <td>7</td>\n",
       "      <td>9.0</td>\n",
       "      <td>Mid-range product</td>\n",
       "      <td>Regularly busy</td>\n",
       "      <td>Slowest days</td>\n",
       "      <td>Average orders</td>\n",
       "      <td>10</td>\n",
       "      <td>New customer</td>\n",
       "      <td>6.367188</td>\n",
       "      <td>Low spender</td>\n",
       "      <td>20.5</td>\n",
       "      <td>Non-frequent customer</td>\n",
       "      <td>Female</td>\n",
       "      <td>Alabama</td>\n",
       "      <td>31</td>\n",
       "      <td>2/17/2019</td>\n",
       "      <td>3</td>\n",
       "      <td>married</td>\n",
       "      <td>40423</td>\n",
       "      <td>South</td>\n",
       "      <td>0</td>\n",
       "    </tr>\n",
       "    <tr>\n",
       "      <th>3</th>\n",
       "      <td>2254736</td>\n",
       "      <td>1</td>\n",
       "      <td>4</td>\n",
       "      <td>4</td>\n",
       "      <td>7</td>\n",
       "      <td>29.0</td>\n",
       "      <td>False</td>\n",
       "      <td>196</td>\n",
       "      <td>1</td>\n",
       "      <td>1</td>\n",
       "      <td>Soda</td>\n",
       "      <td>7</td>\n",
       "      <td>9.0</td>\n",
       "      <td>Mid-range product</td>\n",
       "      <td>Least busy</td>\n",
       "      <td>Slowest days</td>\n",
       "      <td>Average orders</td>\n",
       "      <td>10</td>\n",
       "      <td>New customer</td>\n",
       "      <td>6.367188</td>\n",
       "      <td>Low spender</td>\n",
       "      <td>20.5</td>\n",
       "      <td>Non-frequent customer</td>\n",
       "      <td>Female</td>\n",
       "      <td>Alabama</td>\n",
       "      <td>31</td>\n",
       "      <td>2/17/2019</td>\n",
       "      <td>3</td>\n",
       "      <td>married</td>\n",
       "      <td>40423</td>\n",
       "      <td>South</td>\n",
       "      <td>0</td>\n",
       "    </tr>\n",
       "    <tr>\n",
       "      <th>4</th>\n",
       "      <td>431534</td>\n",
       "      <td>1</td>\n",
       "      <td>5</td>\n",
       "      <td>4</td>\n",
       "      <td>15</td>\n",
       "      <td>28.0</td>\n",
       "      <td>False</td>\n",
       "      <td>196</td>\n",
       "      <td>1</td>\n",
       "      <td>1</td>\n",
       "      <td>Soda</td>\n",
       "      <td>7</td>\n",
       "      <td>9.0</td>\n",
       "      <td>Mid-range product</td>\n",
       "      <td>Least busy</td>\n",
       "      <td>Slowest days</td>\n",
       "      <td>Average orders</td>\n",
       "      <td>10</td>\n",
       "      <td>New customer</td>\n",
       "      <td>6.367188</td>\n",
       "      <td>Low spender</td>\n",
       "      <td>20.5</td>\n",
       "      <td>Non-frequent customer</td>\n",
       "      <td>Female</td>\n",
       "      <td>Alabama</td>\n",
       "      <td>31</td>\n",
       "      <td>2/17/2019</td>\n",
       "      <td>3</td>\n",
       "      <td>married</td>\n",
       "      <td>40423</td>\n",
       "      <td>South</td>\n",
       "      <td>0</td>\n",
       "    </tr>\n",
       "    <tr>\n",
       "      <th>5</th>\n",
       "      <td>3367565</td>\n",
       "      <td>1</td>\n",
       "      <td>6</td>\n",
       "      <td>2</td>\n",
       "      <td>7</td>\n",
       "      <td>19.0</td>\n",
       "      <td>False</td>\n",
       "      <td>196</td>\n",
       "      <td>1</td>\n",
       "      <td>1</td>\n",
       "      <td>Soda</td>\n",
       "      <td>7</td>\n",
       "      <td>9.0</td>\n",
       "      <td>Mid-range product</td>\n",
       "      <td>Regularly busy</td>\n",
       "      <td>Regularly busy</td>\n",
       "      <td>Average orders</td>\n",
       "      <td>10</td>\n",
       "      <td>New customer</td>\n",
       "      <td>6.367188</td>\n",
       "      <td>Low spender</td>\n",
       "      <td>20.5</td>\n",
       "      <td>Non-frequent customer</td>\n",
       "      <td>Female</td>\n",
       "      <td>Alabama</td>\n",
       "      <td>31</td>\n",
       "      <td>2/17/2019</td>\n",
       "      <td>3</td>\n",
       "      <td>married</td>\n",
       "      <td>40423</td>\n",
       "      <td>South</td>\n",
       "      <td>0</td>\n",
       "    </tr>\n",
       "    <tr>\n",
       "      <th>6</th>\n",
       "      <td>550135</td>\n",
       "      <td>1</td>\n",
       "      <td>7</td>\n",
       "      <td>1</td>\n",
       "      <td>9</td>\n",
       "      <td>20.0</td>\n",
       "      <td>False</td>\n",
       "      <td>196</td>\n",
       "      <td>1</td>\n",
       "      <td>1</td>\n",
       "      <td>Soda</td>\n",
       "      <td>7</td>\n",
       "      <td>9.0</td>\n",
       "      <td>Mid-range product</td>\n",
       "      <td>Regularly busy</td>\n",
       "      <td>Busiest days</td>\n",
       "      <td>Average orders</td>\n",
       "      <td>10</td>\n",
       "      <td>New customer</td>\n",
       "      <td>6.367188</td>\n",
       "      <td>Low spender</td>\n",
       "      <td>20.5</td>\n",
       "      <td>Non-frequent customer</td>\n",
       "      <td>Female</td>\n",
       "      <td>Alabama</td>\n",
       "      <td>31</td>\n",
       "      <td>2/17/2019</td>\n",
       "      <td>3</td>\n",
       "      <td>married</td>\n",
       "      <td>40423</td>\n",
       "      <td>South</td>\n",
       "      <td>0</td>\n",
       "    </tr>\n",
       "    <tr>\n",
       "      <th>7</th>\n",
       "      <td>3108588</td>\n",
       "      <td>1</td>\n",
       "      <td>8</td>\n",
       "      <td>1</td>\n",
       "      <td>14</td>\n",
       "      <td>14.0</td>\n",
       "      <td>False</td>\n",
       "      <td>196</td>\n",
       "      <td>2</td>\n",
       "      <td>1</td>\n",
       "      <td>Soda</td>\n",
       "      <td>7</td>\n",
       "      <td>9.0</td>\n",
       "      <td>Mid-range product</td>\n",
       "      <td>Regularly busy</td>\n",
       "      <td>Busiest days</td>\n",
       "      <td>Average orders</td>\n",
       "      <td>10</td>\n",
       "      <td>New customer</td>\n",
       "      <td>6.367188</td>\n",
       "      <td>Low spender</td>\n",
       "      <td>20.5</td>\n",
       "      <td>Non-frequent customer</td>\n",
       "      <td>Female</td>\n",
       "      <td>Alabama</td>\n",
       "      <td>31</td>\n",
       "      <td>2/17/2019</td>\n",
       "      <td>3</td>\n",
       "      <td>married</td>\n",
       "      <td>40423</td>\n",
       "      <td>South</td>\n",
       "      <td>0</td>\n",
       "    </tr>\n",
       "    <tr>\n",
       "      <th>8</th>\n",
       "      <td>2295261</td>\n",
       "      <td>1</td>\n",
       "      <td>9</td>\n",
       "      <td>1</td>\n",
       "      <td>16</td>\n",
       "      <td>0.0</td>\n",
       "      <td>False</td>\n",
       "      <td>196</td>\n",
       "      <td>4</td>\n",
       "      <td>1</td>\n",
       "      <td>Soda</td>\n",
       "      <td>7</td>\n",
       "      <td>9.0</td>\n",
       "      <td>Mid-range product</td>\n",
       "      <td>Regularly busy</td>\n",
       "      <td>Busiest days</td>\n",
       "      <td>Average orders</td>\n",
       "      <td>10</td>\n",
       "      <td>New customer</td>\n",
       "      <td>6.367188</td>\n",
       "      <td>Low spender</td>\n",
       "      <td>20.5</td>\n",
       "      <td>Non-frequent customer</td>\n",
       "      <td>Female</td>\n",
       "      <td>Alabama</td>\n",
       "      <td>31</td>\n",
       "      <td>2/17/2019</td>\n",
       "      <td>3</td>\n",
       "      <td>married</td>\n",
       "      <td>40423</td>\n",
       "      <td>South</td>\n",
       "      <td>0</td>\n",
       "    </tr>\n",
       "    <tr>\n",
       "      <th>9</th>\n",
       "      <td>2550362</td>\n",
       "      <td>1</td>\n",
       "      <td>10</td>\n",
       "      <td>4</td>\n",
       "      <td>8</td>\n",
       "      <td>30.0</td>\n",
       "      <td>False</td>\n",
       "      <td>196</td>\n",
       "      <td>1</td>\n",
       "      <td>1</td>\n",
       "      <td>Soda</td>\n",
       "      <td>7</td>\n",
       "      <td>9.0</td>\n",
       "      <td>Mid-range product</td>\n",
       "      <td>Least busy</td>\n",
       "      <td>Slowest days</td>\n",
       "      <td>Average orders</td>\n",
       "      <td>10</td>\n",
       "      <td>New customer</td>\n",
       "      <td>6.367188</td>\n",
       "      <td>Low spender</td>\n",
       "      <td>20.5</td>\n",
       "      <td>Non-frequent customer</td>\n",
       "      <td>Female</td>\n",
       "      <td>Alabama</td>\n",
       "      <td>31</td>\n",
       "      <td>2/17/2019</td>\n",
       "      <td>3</td>\n",
       "      <td>married</td>\n",
       "      <td>40423</td>\n",
       "      <td>South</td>\n",
       "      <td>0</td>\n",
       "    </tr>\n",
       "  </tbody>\n",
       "</table>\n",
       "</div>"
      ],
      "text/plain": [
       "   order_id  user_id  order_number  orders_day_of_week  order_hour_of_day  \\\n",
       "0   2539329        1             1                   2                  8   \n",
       "1   2398795        1             2                   3                  7   \n",
       "2    473747        1             3                   3                 12   \n",
       "3   2254736        1             4                   4                  7   \n",
       "4    431534        1             5                   4                 15   \n",
       "5   3367565        1             6                   2                  7   \n",
       "6    550135        1             7                   1                  9   \n",
       "7   3108588        1             8                   1                 14   \n",
       "8   2295261        1             9                   1                 16   \n",
       "9   2550362        1            10                   4                  8   \n",
       "\n",
       "   days_since_prior_order  new_customer  product_id  add_to_cart_order  \\\n",
       "0                     NaN          True         196                  1   \n",
       "1                    15.0         False         196                  1   \n",
       "2                    21.0         False         196                  1   \n",
       "3                    29.0         False         196                  1   \n",
       "4                    28.0         False         196                  1   \n",
       "5                    19.0         False         196                  1   \n",
       "6                    20.0         False         196                  1   \n",
       "7                    14.0         False         196                  2   \n",
       "8                     0.0         False         196                  4   \n",
       "9                    30.0         False         196                  1   \n",
       "\n",
       "   reordered product_name  department_id  prices    price_range_loc  \\\n",
       "0          0         Soda              7     9.0  Mid-range product   \n",
       "1          1         Soda              7     9.0  Mid-range product   \n",
       "2          1         Soda              7     9.0  Mid-range product   \n",
       "3          1         Soda              7     9.0  Mid-range product   \n",
       "4          1         Soda              7     9.0  Mid-range product   \n",
       "5          1         Soda              7     9.0  Mid-range product   \n",
       "6          1         Soda              7     9.0  Mid-range product   \n",
       "7          1         Soda              7     9.0  Mid-range product   \n",
       "8          1         Soda              7     9.0  Mid-range product   \n",
       "9          1         Soda              7     9.0  Mid-range product   \n",
       "\n",
       "      busiest_day    busiest_days busiest_period_of_day  max_order  \\\n",
       "0  Regularly busy  Regularly busy        Average orders         10   \n",
       "1  Regularly busy    Slowest days        Average orders         10   \n",
       "2  Regularly busy    Slowest days        Average orders         10   \n",
       "3      Least busy    Slowest days        Average orders         10   \n",
       "4      Least busy    Slowest days        Average orders         10   \n",
       "5  Regularly busy  Regularly busy        Average orders         10   \n",
       "6  Regularly busy    Busiest days        Average orders         10   \n",
       "7  Regularly busy    Busiest days        Average orders         10   \n",
       "8  Regularly busy    Busiest days        Average orders         10   \n",
       "9      Least busy    Slowest days        Average orders         10   \n",
       "\n",
       "   loyalty_flag  mean_price spending_flag  median_days_prior  \\\n",
       "0  New customer    6.367188   Low spender               20.5   \n",
       "1  New customer    6.367188   Low spender               20.5   \n",
       "2  New customer    6.367188   Low spender               20.5   \n",
       "3  New customer    6.367188   Low spender               20.5   \n",
       "4  New customer    6.367188   Low spender               20.5   \n",
       "5  New customer    6.367188   Low spender               20.5   \n",
       "6  New customer    6.367188   Low spender               20.5   \n",
       "7  New customer    6.367188   Low spender               20.5   \n",
       "8  New customer    6.367188   Low spender               20.5   \n",
       "9  New customer    6.367188   Low spender               20.5   \n",
       "\n",
       "          frequency_flag  gender    state  age date_joined  no_of_dependents  \\\n",
       "0  Non-frequent customer  Female  Alabama   31   2/17/2019                 3   \n",
       "1  Non-frequent customer  Female  Alabama   31   2/17/2019                 3   \n",
       "2  Non-frequent customer  Female  Alabama   31   2/17/2019                 3   \n",
       "3  Non-frequent customer  Female  Alabama   31   2/17/2019                 3   \n",
       "4  Non-frequent customer  Female  Alabama   31   2/17/2019                 3   \n",
       "5  Non-frequent customer  Female  Alabama   31   2/17/2019                 3   \n",
       "6  Non-frequent customer  Female  Alabama   31   2/17/2019                 3   \n",
       "7  Non-frequent customer  Female  Alabama   31   2/17/2019                 3   \n",
       "8  Non-frequent customer  Female  Alabama   31   2/17/2019                 3   \n",
       "9  Non-frequent customer  Female  Alabama   31   2/17/2019                 3   \n",
       "\n",
       "  fam_status  income region  exclude  \n",
       "0    married   40423  South        0  \n",
       "1    married   40423  South        0  \n",
       "2    married   40423  South        0  \n",
       "3    married   40423  South        0  \n",
       "4    married   40423  South        0  \n",
       "5    married   40423  South        0  \n",
       "6    married   40423  South        0  \n",
       "7    married   40423  South        0  \n",
       "8    married   40423  South        0  \n",
       "9    married   40423  South        0  "
      ]
     },
     "execution_count": 5,
     "metadata": {},
     "output_type": "execute_result"
    }
   ],
   "source": [
    "df.head(10)"
   ]
  },
  {
   "cell_type": "code",
   "execution_count": 6,
   "id": "7d3e8444",
   "metadata": {},
   "outputs": [
    {
     "data": {
      "text/plain": [
       "(30964564, 32)"
      ]
     },
     "execution_count": 6,
     "metadata": {},
     "output_type": "execute_result"
    }
   ],
   "source": [
    "# Check dimensions\n",
    "df.shape"
   ]
  },
  {
   "cell_type": "code",
   "execution_count": 7,
   "id": "8c2275e2",
   "metadata": {},
   "outputs": [],
   "source": [
    "# Set floating rounding to two decimal places\n",
    "pd.set_option('display.float_format', '{:.2f}'.format)"
   ]
  },
  {
   "cell_type": "markdown",
   "id": "5f68e882",
   "metadata": {},
   "source": [
    "### 02 Goods Purchased"
   ]
  },
  {
   "cell_type": "code",
   "execution_count": 8,
   "id": "78687263",
   "metadata": {},
   "outputs": [],
   "source": [
    "# Assign names of departments based on department_id for goods purchased\n",
    "\n",
    "goods = []\n",
    "\n",
    "for value in df['department_id']:\n",
    "    if value == 1:\n",
    "        goods.append('Frozen')\n",
    "    elif value == 2:\n",
    "        goods.append('Other')\n",
    "    elif value == 3:\n",
    "        goods.append('Bakery')\n",
    "    elif value == 4:\n",
    "        goods.append('Produce')\n",
    "    elif value == 5:\n",
    "        goods.append('Alcohol')\n",
    "    elif value == 6:\n",
    "        goods.append('International')\n",
    "    elif value == 7:\n",
    "        goods.append('Beverages')\n",
    "    elif value == 8:\n",
    "        goods.append('Pets')\n",
    "    elif value == 9:\n",
    "        goods.append('Dry goods pasta')\n",
    "    elif value == 10:\n",
    "        goods.append('Bulk')\n",
    "    elif value == 11:\n",
    "        goods.append('Personal care')\n",
    "    elif value == 12:\n",
    "        goods.append('Meat seafood')\n",
    "    elif value == 13:\n",
    "        goods.append('Pantry')\n",
    "    elif value == 14:\n",
    "        goods.append('Breakfast')\n",
    "    elif value == 15:\n",
    "        goods.append('Canned goods')\n",
    "    elif value == 16:\n",
    "        goods.append('Dairy eggs')\n",
    "    elif value == 17:\n",
    "        goods.append('Household')\n",
    "    elif value == 18:\n",
    "        goods.append('Babies')\n",
    "    elif value == 19:\n",
    "        goods.append('Snacks')\n",
    "    elif value == 20:\n",
    "        goods.append('Deli')\n",
    "    elif value == 21:\n",
    "        goods.append('Missing')"
   ]
  },
  {
   "cell_type": "code",
   "execution_count": 9,
   "id": "339de4f2",
   "metadata": {},
   "outputs": [],
   "source": [
    "# Assign goods profile to column\n",
    "df['goods'] = goods"
   ]
  },
  {
   "cell_type": "code",
   "execution_count": 10,
   "id": "f9a264b1",
   "metadata": {},
   "outputs": [
    {
     "data": {
      "text/plain": [
       "Produce            9079273\n",
       "Dairy eggs         5177182\n",
       "Snacks             2766406\n",
       "Beverages          2571901\n",
       "Frozen             2121731\n",
       "Pantry             1782705\n",
       "Bakery             1120828\n",
       "Canned goods       1012074\n",
       "Deli               1003834\n",
       "Dry goods pasta     822136\n",
       "Household           699857\n",
       "Meat seafood        674781\n",
       "Breakfast           670850\n",
       "Personal care       424306\n",
       "Babies              410392\n",
       "International       255991\n",
       "Alcohol             144627\n",
       "Pets                 93060\n",
       "Missing              64768\n",
       "Other                34411\n",
       "Bulk                 33451\n",
       "Name: goods, dtype: int64"
      ]
     },
     "execution_count": 10,
     "metadata": {},
     "output_type": "execute_result"
    }
   ],
   "source": [
    "# View goods distribution\n",
    "df['goods'].value_counts()"
   ]
  },
  {
   "cell_type": "markdown",
   "id": "17aba1b9",
   "metadata": {},
   "source": [
    "### 03 Babies"
   ]
  },
  {
   "cell_type": "code",
   "execution_count": 11,
   "id": "3ee219b0",
   "metadata": {},
   "outputs": [],
   "source": [
    "# Assign value of 1 (True) to pets column if product purchased from the Babies department.  If not, assign 0 (False).\n",
    "df['baby'] = [1 if x == 'Babies' else 0 for x in df['goods']]"
   ]
  },
  {
   "cell_type": "code",
   "execution_count": 12,
   "id": "5f5c3a02",
   "metadata": {},
   "outputs": [],
   "source": [
    "# Group by user_id and assign value of 1 to all records for customer if any baby products were purchased\n",
    "df['baby'] = df.groupby(['user_id'])['baby'].transform('max')"
   ]
  },
  {
   "cell_type": "code",
   "execution_count": 13,
   "id": "4f424cfe",
   "metadata": {},
   "outputs": [
    {
     "data": {
      "text/plain": [
       "0    21154311\n",
       "1     9810253\n",
       "Name: baby, dtype: int64"
      ]
     },
     "execution_count": 13,
     "metadata": {},
     "output_type": "execute_result"
    }
   ],
   "source": [
    "# View baby distribution\n",
    "df['baby'].value_counts()"
   ]
  },
  {
   "cell_type": "code",
   "execution_count": 14,
   "id": "21e48508",
   "metadata": {},
   "outputs": [],
   "source": [
    "# Reduce data type size of baby column from int64 to int8 column for memory savings\n",
    "df['baby'] = df['baby'].astype('int8')"
   ]
  },
  {
   "cell_type": "markdown",
   "id": "6d55bc68",
   "metadata": {},
   "source": [
    "### 04 Pets"
   ]
  },
  {
   "cell_type": "code",
   "execution_count": 15,
   "id": "096022e1",
   "metadata": {},
   "outputs": [],
   "source": [
    "# Assign value of 1 (True) to pets column if product purchased from the Pets department.  If not, assign 0 (False).\n",
    "df['pets'] = [1 if x == 'Pets' else 0 for x in df['goods']]"
   ]
  },
  {
   "cell_type": "code",
   "execution_count": 16,
   "id": "56d57824",
   "metadata": {},
   "outputs": [],
   "source": [
    "# Group by user_id and assign value of 1 to all records for customer if any pet products were purchased\n",
    "df['pets'] = df.groupby(['user_id'])['pets'].transform('max')"
   ]
  },
  {
   "cell_type": "code",
   "execution_count": 17,
   "id": "c4b7bb75",
   "metadata": {},
   "outputs": [
    {
     "data": {
      "text/plain": [
       "0    27513213\n",
       "1     3451351\n",
       "Name: pets, dtype: int64"
      ]
     },
     "execution_count": 17,
     "metadata": {},
     "output_type": "execute_result"
    }
   ],
   "source": [
    "# View pets distribution\n",
    "df['pets'].value_counts()"
   ]
  },
  {
   "cell_type": "code",
   "execution_count": 18,
   "id": "0e89a45e",
   "metadata": {},
   "outputs": [],
   "source": [
    "# Reduce data type size of pets column from int64 to int8 column for memory savings\n",
    "df['pets'] = df['pets'].astype('int8')"
   ]
  },
  {
   "cell_type": "markdown",
   "id": "b0f52580",
   "metadata": {},
   "source": [
    "### 05 Age Groups"
   ]
  },
  {
   "cell_type": "code",
   "execution_count": 19,
   "id": "19d595ed",
   "metadata": {},
   "outputs": [],
   "source": [
    "# Create age group flag\n",
    "df.loc[df['age'] <= 24, 'age_group'] = 'Young Adult'\n",
    "df.loc[(df['age'] > 24) & (df['age'] <=64), 'age_group'] = 'Adult' \n",
    "df.loc[df['age'] >=65, 'age_group'] = 'Senior'"
   ]
  },
  {
   "cell_type": "code",
   "execution_count": 20,
   "id": "56bfcd22",
   "metadata": {},
   "outputs": [
    {
     "data": {
      "text/plain": [
       "Adult          19353826\n",
       "Senior          8195544\n",
       "Young Adult     3415194\n",
       "Name: age_group, dtype: int64"
      ]
     },
     "execution_count": 20,
     "metadata": {},
     "output_type": "execute_result"
    }
   ],
   "source": [
    "# View age group distribution\n",
    "df['age_group'].value_counts()"
   ]
  },
  {
   "cell_type": "markdown",
   "id": "a0d8042e",
   "metadata": {},
   "source": [
    "### 06 Household Groups"
   ]
  },
  {
   "cell_type": "code",
   "execution_count": 21,
   "id": "0b14ee88",
   "metadata": {},
   "outputs": [
    {
     "data": {
      "text/plain": [
       "married                             21743711\n",
       "single                               5094410\n",
       "divorced/widowed                     2645271\n",
       "living with parents and siblings     1481172\n",
       "Name: fam_status, dtype: int64"
      ]
     },
     "execution_count": 21,
     "metadata": {},
     "output_type": "execute_result"
    }
   ],
   "source": [
    "# View family status distribution\n",
    "df['fam_status'].value_counts()"
   ]
  },
  {
   "cell_type": "code",
   "execution_count": 22,
   "id": "9fa40cb8",
   "metadata": {},
   "outputs": [
    {
     "data": {
      "text/plain": [
       "3    7772516\n",
       "0    7739681\n",
       "2    7733261\n",
       "1    7719106\n",
       "Name: no_of_dependents, dtype: int64"
      ]
     },
     "execution_count": 22,
     "metadata": {},
     "output_type": "execute_result"
    }
   ],
   "source": [
    "# View dependents distribution\n",
    "df['no_of_dependents'].value_counts()"
   ]
  },
  {
   "cell_type": "code",
   "execution_count": 23,
   "id": "0033f27d",
   "metadata": {},
   "outputs": [],
   "source": [
    "# Create household group combining family status and dependents\n",
    "df.loc[(df['fam_status'] == 'married') & (df['no_of_dependents'] == 0), 'household'] = 'Married' \n",
    "df.loc[(df['fam_status'] == 'married') & (df['no_of_dependents'] >= 1), 'household'] = 'Married/Dep' \n",
    "df.loc[(df['fam_status'] == 'single') & (df['no_of_dependents'] == 0), 'household'] = 'Single' \n",
    "df.loc[(df['fam_status'] == 'single') & (df['no_of_dependents'] >= 1), 'household'] = 'Single/Dep' \n",
    "df.loc[(df['fam_status'] == 'divorced/widowed') & (df['no_of_dependents'] == 0), 'household'] = 'Div/Wid' \n",
    "df.loc[(df['fam_status'] == 'divorced/widowed') & (df['no_of_dependents'] >= 1), 'household'] = 'Div/Wid/Dep' \n",
    "df.loc[(df['fam_status'] == 'living with parents and siblings') & (df['no_of_dependents'] == 0), 'household'] = 'WithParents' \n",
    "df.loc[(df['fam_status'] == 'living with parents and siblings') & (df['no_of_dependents'] >= 1), 'household'] = 'WithParents/Dep'"
   ]
  },
  {
   "cell_type": "code",
   "execution_count": 24,
   "id": "06767dfe",
   "metadata": {},
   "outputs": [
    {
     "data": {
      "text/plain": [
       "Married/Dep        21743711\n",
       "Single              5094410\n",
       "Div/Wid             2645271\n",
       "WithParents/Dep     1481172\n",
       "Name: household, dtype: int64"
      ]
     },
     "execution_count": 24,
     "metadata": {},
     "output_type": "execute_result"
    }
   ],
   "source": [
    "# View household distribution\n",
    "df['household'].value_counts()"
   ]
  },
  {
   "cell_type": "code",
   "execution_count": 25,
   "id": "fd89e550",
   "metadata": {},
   "outputs": [
    {
     "data": {
      "text/plain": [
       "30964564"
      ]
     },
     "execution_count": 25,
     "metadata": {},
     "output_type": "execute_result"
    }
   ],
   "source": [
    "df['household'].value_counts().sum()"
   ]
  },
  {
   "cell_type": "markdown",
   "id": "fd9dcdcf",
   "metadata": {},
   "source": [
    "### 07 Income Groups"
   ]
  },
  {
   "cell_type": "code",
   "execution_count": 26,
   "id": "35854ca1",
   "metadata": {},
   "outputs": [],
   "source": [
    "# Create Income Flag\n",
    "# Source for income classifications:  https://money.usnews.com/money/personal-finance/family-finance/articles/where-do-i-fall-in-the-american-economic-class-systemdf.loc[df['income'] <= 52000, 'income_flag'] = 'Low income'\n",
    "df.loc[df['income'] <= 52200, 'income_group'] = 'Low Income'\n",
    "df.loc[(df['income'] > 52200) & (df['income'] <=156600), 'income_group'] = 'Middle Income' \n",
    "df.loc[df['income'] > 156600, 'income_group'] = 'Upper Income'"
   ]
  },
  {
   "cell_type": "code",
   "execution_count": 27,
   "id": "b642fa78",
   "metadata": {},
   "outputs": [
    {
     "data": {
      "text/plain": [
       "30964564"
      ]
     },
     "execution_count": 27,
     "metadata": {},
     "output_type": "execute_result"
    }
   ],
   "source": [
    "# View income distribution\n",
    "df['income_group'].value_counts().sum()"
   ]
  },
  {
   "cell_type": "markdown",
   "id": "4e0a2bf0",
   "metadata": {},
   "source": [
    "### 08 Customer Profile Groups"
   ]
  },
  {
   "cell_type": "code",
   "execution_count": 28,
   "id": "ecd52767",
   "metadata": {},
   "outputs": [],
   "source": [
    "# Add age test to household groups identified above\n",
    "df.loc[(df['household'] == 'Married/Dep') & (df['age_group'] == 'Young Adult'), 'profile'] = 'YA/Married/Dep'\n",
    "df.loc[(df['household'] == 'Married/Dep') & (df['age_group'] == 'Adult'), 'profile'] = 'Adult/Married/Dep'\n",
    "df.loc[(df['household'] == 'Married/Dep') & (df['age_group'] == 'Senior'), 'profile'] = 'Senior/Married/Dep'\n",
    "\n",
    "df.loc[(df['household'] == 'Single') & (df['age_group'] == 'Young Adult'), 'profile'] = 'YA/Single'\n",
    "df.loc[(df['household'] == 'Single') & (df['age_group'] == 'Adult'), 'profile'] = 'Adult/Single'\n",
    "df.loc[(df['household'] == 'Single') & (df['age_group'] == 'Senior'), 'profile'] = 'Senior/Single'\n",
    "\n",
    "df.loc[(df['household'] == 'Div/Wid') & (df['age_group'] == 'Young Adult'), 'profile'] = 'YA/Div/Wid'\n",
    "df.loc[(df['household'] == 'Div/Wid') & (df['age_group'] == 'Adult'), 'profile'] = 'Adult/Div/Wid'\n",
    "df.loc[(df['household'] == 'Div/Wid') & (df['age_group'] == 'Senior'), 'profile'] = 'Senior/Div/Wid'\n",
    "\n",
    "df.loc[(df['household'] == 'WithParents/Dep') & (df['age_group'] == 'Young Adult'), 'profile'] = 'YA/WithParents/Dep'\n",
    "df.loc[(df['household'] == 'WithParents/Dep') & (df['age_group'] == 'Adult'), 'profile'] = 'Adult/WithPar/Dep'\n",
    "df.loc[(df['household'] == 'WithParents/Dep') & (df['age_group'] == 'Senior'), 'profile'] = 'Senior/WithPar/Dep'\n"
   ]
  },
  {
   "cell_type": "code",
   "execution_count": 29,
   "id": "94d93025",
   "metadata": {},
   "outputs": [
    {
     "data": {
      "text/plain": [
       "Adult/Married/Dep     14461613\n",
       "Senior/Married/Dep     6173586\n",
       "Adult/Single           4268900\n",
       "Senior/Div/Wid         2021958\n",
       "YA/WithParents/Dep     1481172\n",
       "YA/Married/Dep         1108512\n",
       "YA/Single               825510\n",
       "Adult/Div/Wid           623313\n",
       "Name: profile, dtype: int64"
      ]
     },
     "execution_count": 29,
     "metadata": {},
     "output_type": "execute_result"
    }
   ],
   "source": [
    "# View profile distibution\n",
    "df['profile'].value_counts()"
   ]
  },
  {
   "cell_type": "code",
   "execution_count": 30,
   "id": "06522421",
   "metadata": {},
   "outputs": [
    {
     "data": {
      "text/plain": [
       "30964564"
      ]
     },
     "execution_count": 30,
     "metadata": {},
     "output_type": "execute_result"
    }
   ],
   "source": [
    "# Check sum of profile entries\n",
    "df['profile'].value_counts().sum()"
   ]
  },
  {
   "cell_type": "code",
   "execution_count": 31,
   "id": "af486cd0",
   "metadata": {},
   "outputs": [],
   "source": [
    "# Add income test to profile"
   ]
  },
  {
   "cell_type": "code",
   "execution_count": 32,
   "id": "cb8bc041",
   "metadata": {},
   "outputs": [],
   "source": [
    "df.loc[(df['household'] == 'Married/Dep') & (df['age_group'] == 'Adult') & (df['income_group'] == 'Low Income'), 'profile'] = 'Adult/Married/Dep/Low'\n",
    "df.loc[(df['household'] == 'Married/Dep') & (df['age_group'] == 'Adult') & (df['income_group'] == 'Middle Income'), 'profile'] = 'Adult/Married/Dep/Mid'\n",
    "df.loc[(df['household'] == 'Married/Dep') & (df['age_group'] == 'Adult') & (df['income_group'] == 'Upper Income'), 'profile'] = 'Adult/Married/Dep/Up'\n",
    "df.loc[(df['household'] == 'Married/Dep') & (df['age_group'] == 'Senior') & (df['income_group'] == 'Low Income'), 'profile'] = 'Senior/Married/Dep/Low'\n",
    "df.loc[(df['household'] == 'Married/Dep') & (df['age_group'] == 'Senior') & (df['income_group'] == 'Middle Income'), 'profile'] = 'Senior/Married/Dep/Mid'\n",
    "df.loc[(df['household'] == 'Married/Dep') & (df['age_group'] == 'Senior') & (df['income_group'] == 'Upper Income'), 'profile'] = 'Senior/Married/Dep/Up'\n",
    "df.loc[(df['household'] == 'Single') & (df['age_group'] == 'Adult') & (df['income_group'] == 'Low Income'), 'profile'] = 'Adult/Single/Low'\n",
    "df.loc[(df['household'] == 'Single') & (df['age_group'] == 'Adult') & (df['income_group'] == 'Middle Income'), 'profile'] = 'Adult/Single/Mid'\n",
    "df.loc[(df['household'] == 'Single') & (df['age_group'] == 'Adult') & (df['income_group'] == 'Upper Income'), 'profile'] = 'Adult/Single/Up'\n",
    "df.loc[(df['household'] == 'Div/Wid') & (df['age_group'] == 'Senior') & (df['income_group'] == 'Low Income'), 'profile'] = 'Senior/Div/Wid/Low'\n",
    "df.loc[(df['household'] == 'Div/Wid') & (df['age_group'] == 'Senior') & (df['income_group'] == 'Middle Income'), 'profile'] = 'Senior/Div/Wid/Mid'\n",
    "df.loc[(df['household'] == 'Div/Wid') & (df['age_group'] == 'Senior') & (df['income_group'] == 'Upper Income'), 'profile'] = 'Senior/Div/Wid/Up'\n",
    "df.loc[(df['household'] == 'WithParents/Dep') & (df['age_group'] == 'Young Adult') & (df['income_group'] == 'Low Income'), 'profile'] = 'YA/WithParents/Dep/Low'\n",
    "df.loc[(df['household'] == 'WithParents/Dep') & (df['age_group'] == 'Young Adult') & (df['income_group'] == 'Middle Income'), 'profile'] = 'YA/WithParents/Dep/Mid'\n",
    "df.loc[(df['household'] == 'WithParents/Dep') & (df['age_group'] == 'Young Adult') & (df['income_group'] == 'Upper Income'), 'profile'] = 'YA/WithParents/Dep/Up'\n",
    "df.loc[(df['household'] == 'Married/Dep') & (df['age_group'] == 'Young Adult') & (df['income_group'] == 'Low Income'), 'profile'] = 'YA/Married/Dep/Low'\n",
    "df.loc[(df['household'] == 'Married/Dep') & (df['age_group'] == 'Young Adult') & (df['income_group'] == 'Middle Income'), 'profile'] = 'YA/Married/Dep/Mid'\n",
    "df.loc[(df['household'] == 'Married/Dep') & (df['age_group'] == 'Young Adult') & (df['income_group'] == 'Upper Income'), 'profile'] = 'YA/Married/Dep/Up'\n",
    "df.loc[(df['household'] == 'Single') & (df['age_group'] == 'Young Adult') & (df['income_group'] == 'Low Income'), 'profile'] = 'YA/Single/Low'\n",
    "df.loc[(df['household'] == 'Single') & (df['age_group'] == 'Young Adult') & (df['income_group'] == 'Middle Income'), 'profile'] = 'YA/Single/Mid'\n",
    "df.loc[(df['household'] == 'Single') & (df['age_group'] == 'Young Adult') & (df['income_group'] == 'Upper Income'), 'profile'] = 'YA/Single/Up'\n",
    "df.loc[(df['household'] == 'Div/Wid') & (df['age_group'] == 'Adult') & (df['income_group'] == 'Low Income'), 'profile'] = 'Adult/Div/Wid/Low'\n",
    "df.loc[(df['household'] == 'Div/Wid') & (df['age_group'] == 'Adult') & (df['income_group'] == 'Middle Income'), 'profile'] = 'Adult/Div/Wid/Mid'\n",
    "df.loc[(df['household'] == 'Div/Wid') & (df['age_group'] == 'Adult') & (df['income_group'] == 'Upper Income'), 'profile'] = 'Adult/Div/Wid/Up'\n"
   ]
  },
  {
   "cell_type": "code",
   "execution_count": 33,
   "id": "f05aac3b",
   "metadata": {},
   "outputs": [
    {
     "data": {
      "text/plain": [
       "Adult/Married/Dep/Mid     11494694\n",
       "Senior/Married/Dep/Mid     4808014\n",
       "Adult/Single/Mid           3378208\n",
       "Adult/Married/Dep/Low      1761597\n",
       "Senior/Div/Wid/Mid         1581046\n",
       "YA/WithParents/Dep/Mid     1217642\n",
       "Adult/Married/Dep/Up       1205322\n",
       "YA/Married/Dep/Mid          910669\n",
       "Senior/Married/Dep/Up       803591\n",
       "YA/Single/Mid               668546\n",
       "Senior/Married/Dep/Low      561981\n",
       "Adult/Single/Low            551960\n",
       "Adult/Div/Wid/Mid           481829\n",
       "Adult/Single/Up             338732\n",
       "Senior/Div/Wid/Up           271939\n",
       "YA/WithParents/Dep/Low      250513\n",
       "YA/Married/Dep/Low          190597\n",
       "Senior/Div/Wid/Low          168973\n",
       "YA/Single/Low               149405\n",
       "Adult/Div/Wid/Up             84057\n",
       "Adult/Div/Wid/Low            57427\n",
       "YA/WithParents/Dep/Up        13017\n",
       "YA/Single/Up                  7559\n",
       "YA/Married/Dep/Up             7246\n",
       "Name: profile, dtype: int64"
      ]
     },
     "execution_count": 33,
     "metadata": {},
     "output_type": "execute_result"
    }
   ],
   "source": [
    "# View profile distibution\n",
    "df['profile'].value_counts()"
   ]
  },
  {
   "cell_type": "code",
   "execution_count": 34,
   "id": "dc168ab5",
   "metadata": {},
   "outputs": [
    {
     "data": {
      "text/plain": [
       "30964564"
      ]
     },
     "execution_count": 34,
     "metadata": {},
     "output_type": "execute_result"
    }
   ],
   "source": [
    "# Check sum of profile entries\n",
    "df['profile'].value_counts().sum()"
   ]
  },
  {
   "cell_type": "code",
   "execution_count": 35,
   "id": "d2abb7ec",
   "metadata": {},
   "outputs": [
    {
     "data": {
      "text/plain": [
       "(162631, 39)"
      ]
     },
     "execution_count": 35,
     "metadata": {},
     "output_type": "execute_result"
    }
   ],
   "source": [
    "# Create customers dataframe\n",
    "customers = df.drop_duplicates(subset=['user_id'])\n",
    "customers.shape"
   ]
  },
  {
   "cell_type": "code",
   "execution_count": 36,
   "id": "48466143",
   "metadata": {},
   "outputs": [
    {
     "data": {
      "text/plain": [
       "Adult/Married/Dep/Mid     57291\n",
       "Senior/Married/Dep/Mid    24337\n",
       "Adult/Single/Mid          16881\n",
       "Adult/Married/Dep/Low     13000\n",
       "Senior/Div/Wid/Mid         7984\n",
       "YA/WithParents/Dep/Mid     5871\n",
       "Adult/Married/Dep/Up       5747\n",
       "YA/Married/Dep/Mid         4373\n",
       "Senior/Married/Dep/Low     4302\n",
       "Adult/Single/Low           4011\n",
       "Senior/Married/Dep/Up      3908\n",
       "YA/Single/Mid              3423\n",
       "Adult/Div/Wid/Mid          2329\n",
       "YA/WithParents/Dep/Low     1694\n",
       "Adult/Single/Up            1557\n",
       "Senior/Div/Wid/Low         1396\n",
       "Senior/Div/Wid/Up          1323\n",
       "YA/Married/Dep/Low         1303\n",
       "YA/Single/Low              1002\n",
       "Adult/Div/Wid/Low           425\n",
       "Adult/Div/Wid/Up            374\n",
       "YA/WithParents/Dep/Up        43\n",
       "YA/Married/Dep/Up            35\n",
       "YA/Single/Up                 22\n",
       "Name: profile, dtype: int64"
      ]
     },
     "execution_count": 36,
     "metadata": {},
     "output_type": "execute_result"
    }
   ],
   "source": [
    "# View profile distibution in customers dataframe\n",
    "customers['profile'].value_counts(dropna = False)"
   ]
  },
  {
   "cell_type": "code",
   "execution_count": 37,
   "id": "af9f4176",
   "metadata": {},
   "outputs": [
    {
     "data": {
      "text/plain": [
       "162631"
      ]
     },
     "execution_count": 37,
     "metadata": {},
     "output_type": "execute_result"
    }
   ],
   "source": [
    "# Check sum of profile entries for customers dataframe\n",
    "customers['profile'].value_counts().sum()"
   ]
  },
  {
   "cell_type": "markdown",
   "id": "86e4d101",
   "metadata": {},
   "source": [
    "### 09 Customer Profiles Bar Chart"
   ]
  },
  {
   "cell_type": "code",
   "execution_count": 38,
   "id": "307e8fd4",
   "metadata": {},
   "outputs": [
    {
     "data": {
      "text/plain": [
       "Text(0, 0.5, '')"
      ]
     },
     "execution_count": 38,
     "metadata": {},
     "output_type": "execute_result"
    },
    {
     "data": {
      "image/png": "[encoded data removed]",
      "text/plain": [
       "<Figure size 432x288 with 1 Axes>"
      ]
     },
     "metadata": {
      "needs_background": "light"
     },
     "output_type": "display_data"
    }
   ],
   "source": [
    "# Create bar chart for distribution of customer profiles\n",
    "bar = customers['profile'].value_counts().sort_values().plot.barh(title = 'Distribution of Customer Profiles', \n",
    "                                            ylabel = 'Number of Customers', color = sns.color_palette(\"muted\")[2])\n",
    "\n",
    "plt.xlabel('Number of Customers')\n",
    "plt.ylabel('')"
   ]
  },
  {
   "cell_type": "code",
   "execution_count": 39,
   "id": "95b5901b",
   "metadata": {},
   "outputs": [],
   "source": [
    "# Export bar chart\n",
    "bar.figure.savefig(os.path.join(path, '04 Analysis','Visualizations', 'bar_agefam_in_ex.png'))"
   ]
  },
  {
   "cell_type": "markdown",
   "id": "622c1eb1",
   "metadata": {},
   "source": [
    "### 10 Orders by Customer Profile Bar Chart"
   ]
  },
  {
   "cell_type": "code",
   "execution_count": 40,
   "id": "cdffbc8a",
   "metadata": {},
   "outputs": [
    {
     "data": {
      "text/plain": [
       "(3064375, 39)"
      ]
     },
     "execution_count": 40,
     "metadata": {},
     "output_type": "execute_result"
    }
   ],
   "source": [
    "# Create orders dataframe\n",
    "orders = df.drop_duplicates(subset=['order_id'])\n",
    "orders.shape"
   ]
  },
  {
   "cell_type": "code",
   "execution_count": 41,
   "id": "41653f90",
   "metadata": {},
   "outputs": [
    {
     "data": {
      "text/plain": [
       "Text(0, 0.5, '')"
      ]
     },
     "execution_count": 41,
     "metadata": {},
     "output_type": "execute_result"
    },
    {
     "data": {
      "image/png": "[encoded data removed]",
      "text/plain": [
       "<Figure size 432x288 with 1 Axes>"
      ]
     },
     "metadata": {
      "needs_background": "light"
     },
     "output_type": "display_data"
    }
   ],
   "source": [
    "# Distribution of orders by customer profile\n",
    "data = orders['profile'].value_counts().sort_values()\n",
    "bar_profile_orders = data.plot.barh(color = ['#6acc64', '#ee854a', '#d65f5f'],\n",
    "                                      legend=None, ylabel='Order Count', title='Distibution of Orders by Customer Profile')\n",
    "\n",
    "plt.xlabel('Number of Orders')\n",
    "plt.ylabel('')"
   ]
  },
  {
   "cell_type": "code",
   "execution_count": 42,
   "id": "c95a0679",
   "metadata": {},
   "outputs": [],
   "source": [
    "# Export bar chart\n",
    "bar_profile_orders.figure.savefig(os.path.join(path, '04 Analysis','Visualizations', 'bar_pro__ord_ex.png'))"
   ]
  },
  {
   "cell_type": "markdown",
   "id": "5c218da6",
   "metadata": {},
   "source": [
    "### 11 Profile Comparison of Money Spent to Number of Orders Scatterplot"
   ]
  },
  {
   "cell_type": "code",
   "execution_count": 43,
   "id": "d66e862a",
   "metadata": {},
   "outputs": [],
   "source": [
    "df['prices'] = df['prices'].astype('float32')"
   ]
  },
  {
   "cell_type": "code",
   "execution_count": 44,
   "id": "c1df519e",
   "metadata": {},
   "outputs": [],
   "source": [
    "# Sum prices for total money spent by each profile group\n",
    "profile_prices = df.groupby('profile')['prices'].sum().sort_values(ascending=False)"
   ]
  },
  {
   "cell_type": "code",
   "execution_count": 45,
   "id": "b6af4d93",
   "metadata": {},
   "outputs": [
    {
     "data": {
      "text/plain": [
       "profile\n",
       "Adult/Married/Dep/Mid    91115872.00\n",
       "Senior/Married/Dep/Mid   38071732.00\n",
       "Adult/Single/Mid         26788642.00\n",
       "Senior/Div/Wid/Mid       12516586.00\n",
       "Adult/Married/Dep/Low    11945662.00\n",
       "YA/WithParents/Dep/Mid    9691426.00\n",
       "Adult/Married/Dep/Up      9550254.00\n",
       "YA/Married/Dep/Mid        7234317.00\n",
       "Senior/Married/Dep/Up     6386476.50\n",
       "YA/Single/Mid             5317418.50\n",
       "Adult/Div/Wid/Mid         3818288.50\n",
       "Adult/Single/Low          3763681.75\n",
       "Senior/Married/Dep/Low    3656841.50\n",
       "Adult/Single/Up           2677416.00\n",
       "Senior/Div/Wid/Up         2155833.00\n",
       "YA/WithParents/Dep/Low    1758342.62\n",
       "YA/Married/Dep/Low        1342108.00\n",
       "Senior/Div/Wid/Low        1099833.62\n",
       "YA/Single/Low             1041131.25\n",
       "Adult/Div/Wid/Up           664879.25\n",
       "Adult/Div/Wid/Low          376597.00\n",
       "YA/WithParents/Dep/Up      102570.91\n",
       "YA/Single/Up                58188.20\n",
       "YA/Married/Dep/Up           56120.72\n",
       "Name: prices, dtype: float32"
      ]
     },
     "execution_count": 45,
     "metadata": {},
     "output_type": "execute_result"
    }
   ],
   "source": [
    "# View money spent by profile\n",
    "profile_prices"
   ]
  },
  {
   "cell_type": "code",
   "execution_count": 46,
   "id": "f555afe0",
   "metadata": {},
   "outputs": [],
   "source": [
    "# Sum the maximum order number for each customer by profile group\n",
    "profile_max=customers.groupby('profile')['max_order'].sum().sort_values(ascending=False)"
   ]
  },
  {
   "cell_type": "code",
   "execution_count": 47,
   "id": "29a3e95d",
   "metadata": {},
   "outputs": [
    {
     "data": {
      "text/plain": [
       "profile\n",
       "Adult/Married/Dep/Mid    1095263.00\n",
       "Senior/Married/Dep/Mid    462959.00\n",
       "Adult/Single/Mid          324675.00\n",
       "Adult/Married/Dep/Low     220718.00\n",
       "Senior/Div/Wid/Mid        151502.00\n",
       "YA/WithParents/Dep/Mid    114776.00\n",
       "Adult/Married/Dep/Up      113431.00\n",
       "YA/Married/Dep/Mid         84886.00\n",
       "Senior/Married/Dep/Up      75525.00\n",
       "Senior/Married/Dep/Low     75248.00\n",
       "Adult/Single/Low           67941.00\n",
       "YA/Single/Mid              64533.00\n",
       "Adult/Div/Wid/Mid          45148.00\n",
       "Adult/Single/Up            31164.00\n",
       "YA/WithParents/Dep/Low     29406.00\n",
       "Senior/Div/Wid/Up          25916.00\n",
       "Senior/Div/Wid/Low         23591.00\n",
       "YA/Married/Dep/Low         22620.00\n",
       "YA/Single/Low              17561.00\n",
       "Adult/Div/Wid/Up            7865.00\n",
       "Adult/Div/Wid/Low           7313.00\n",
       "YA/WithParents/Dep/Up       1207.00\n",
       "YA/Married/Dep/Up            706.00\n",
       "YA/Single/Up                 580.00\n",
       "Name: max_order, dtype: float64"
      ]
     },
     "execution_count": 47,
     "metadata": {},
     "output_type": "execute_result"
    }
   ],
   "source": [
    "profile_max"
   ]
  },
  {
   "cell_type": "code",
   "execution_count": 48,
   "id": "6ade3ea3",
   "metadata": {},
   "outputs": [
    {
     "data": {
      "image/png": "[encoded data removed]",
      "text/plain": [
       "<Figure size 432x288 with 1 Axes>"
      ]
     },
     "metadata": {
      "needs_background": "light"
     },
     "output_type": "display_data"
    }
   ],
   "source": [
    "# Create scatterplot\n",
    "scatter_profile = plt.scatter(profile_prices, profile_max, color = '#6acc64', edgecolors='gray')\n",
    "\n",
    "plt.title('Profile Group Spending vs. Orders Placed')\n",
    "plt.xlabel('Spending ($)')\n",
    "plt.ylabel('Orders Placed')\n",
    "plt.show()"
   ]
  },
  {
   "cell_type": "code",
   "execution_count": 49,
   "id": "5040f3da",
   "metadata": {},
   "outputs": [],
   "source": [
    "# Export scatterplot\n",
    "scatter_profile.figure.savefig(os.path.join(path, '04 Analysis','Visualizations', 'scatter_profile_ex.png'))"
   ]
  },
  {
   "cell_type": "markdown",
   "id": "6c86f629",
   "metadata": {},
   "source": [
    "### 12 Baby and Pet Statistics"
   ]
  },
  {
   "cell_type": "code",
   "execution_count": 50,
   "id": "c4e3a81f",
   "metadata": {},
   "outputs": [
    {
     "data": {
      "text/plain": [
       "goods\n",
       "Produce           72453328.00\n",
       "Dairy eggs        43117576.00\n",
       "Beverages         19758370.00\n",
       "Frozen            16408887.00\n",
       "Pantry            14287506.00\n",
       "Snacks            11828022.00\n",
       "Meat seafood      10998508.00\n",
       "Bakery             8806762.00\n",
       "Deli               7812815.50\n",
       "Canned goods       7637854.50\n",
       "Dry goods pasta    6042226.50\n",
       "Breakfast          5388185.00\n",
       "Household          5164900.50\n",
       "Personal care      3393936.00\n",
       "Babies             3133079.25\n",
       "International      1965754.62\n",
       "Alcohol            1178806.75\n",
       "Pets                734015.69\n",
       "Missing             560901.75\n",
       "Bulk                279209.41\n",
       "Other               239570.80\n",
       "Name: prices, dtype: float32"
      ]
     },
     "execution_count": 50,
     "metadata": {},
     "output_type": "execute_result"
    }
   ],
   "source": [
    "# View sum spent by department\n",
    "df.groupby('goods')['prices'].sum().sort_values(ascending = False)"
   ]
  },
  {
   "cell_type": "code",
   "execution_count": 51,
   "id": "1087eaae",
   "metadata": {},
   "outputs": [
    {
     "data": {
      "text/plain": [
       "241189810.0"
      ]
     },
     "execution_count": 51,
     "metadata": {},
     "output_type": "execute_result"
    }
   ],
   "source": [
    "# Sum of all sales\n",
    "df['prices'].sum()"
   ]
  },
  {
   "cell_type": "code",
   "execution_count": 52,
   "id": "35edb27a",
   "metadata": {},
   "outputs": [
    {
     "data": {
      "text/plain": [
       "1.2990097923291204"
      ]
     },
     "execution_count": 52,
     "metadata": {},
     "output_type": "execute_result"
    }
   ],
   "source": [
    "# Babies department % of sales\n",
    "3133079.25/241189810.0*100"
   ]
  },
  {
   "cell_type": "code",
   "execution_count": 53,
   "id": "f752996b",
   "metadata": {},
   "outputs": [
    {
     "data": {
      "text/plain": [
       "0.3043311365434551"
      ]
     },
     "execution_count": 53,
     "metadata": {},
     "output_type": "execute_result"
    }
   ],
   "source": [
    "# Pets department % of sales\n",
    "734015.69/241189810.0*100"
   ]
  },
  {
   "cell_type": "code",
   "execution_count": 54,
   "id": "5736cb8d",
   "metadata": {},
   "outputs": [
    {
     "data": {
      "text/html": [
       "<div>\n",
       "<style scoped>\n",
       "    .dataframe tbody tr th:only-of-type {\n",
       "        vertical-align: middle;\n",
       "    }\n",
       "\n",
       "    .dataframe tbody tr th {\n",
       "        vertical-align: top;\n",
       "    }\n",
       "\n",
       "    .dataframe thead th {\n",
       "        text-align: right;\n",
       "    }\n",
       "</style>\n",
       "<table border=\"1\" class=\"dataframe\">\n",
       "  <thead>\n",
       "    <tr style=\"text-align: right;\">\n",
       "      <th>pets</th>\n",
       "      <th>0</th>\n",
       "      <th>1</th>\n",
       "    </tr>\n",
       "    <tr>\n",
       "      <th>baby</th>\n",
       "      <th></th>\n",
       "      <th></th>\n",
       "    </tr>\n",
       "  </thead>\n",
       "  <tbody>\n",
       "    <tr>\n",
       "      <th>0</th>\n",
       "      <td>75.13</td>\n",
       "      <td>6.28</td>\n",
       "    </tr>\n",
       "    <tr>\n",
       "      <th>1</th>\n",
       "      <td>16.76</td>\n",
       "      <td>1.82</td>\n",
       "    </tr>\n",
       "  </tbody>\n",
       "</table>\n",
       "</div>"
      ],
      "text/plain": [
       "pets     0    1\n",
       "baby           \n",
       "0    75.13 6.28\n",
       "1    16.76 1.82"
      ]
     },
     "execution_count": 54,
     "metadata": {},
     "output_type": "execute_result"
    }
   ],
   "source": [
    "# Crosstab of baby and pet flags\n",
    "pd.crosstab(customers['baby'], customers['pets'], normalize=True)*100"
   ]
  },
  {
   "cell_type": "code",
   "execution_count": 55,
   "id": "761538aa",
   "metadata": {},
   "outputs": [
    {
     "data": {
      "text/html": [
       "<div>\n",
       "<style scoped>\n",
       "    .dataframe tbody tr th:only-of-type {\n",
       "        vertical-align: middle;\n",
       "    }\n",
       "\n",
       "    .dataframe tbody tr th {\n",
       "        vertical-align: top;\n",
       "    }\n",
       "\n",
       "    .dataframe thead th {\n",
       "        text-align: right;\n",
       "    }\n",
       "</style>\n",
       "<table border=\"1\" class=\"dataframe\">\n",
       "  <thead>\n",
       "    <tr style=\"text-align: right;\">\n",
       "      <th>pets</th>\n",
       "      <th>0</th>\n",
       "      <th>1</th>\n",
       "    </tr>\n",
       "    <tr>\n",
       "      <th>profile</th>\n",
       "      <th></th>\n",
       "      <th></th>\n",
       "    </tr>\n",
       "  </thead>\n",
       "  <tbody>\n",
       "    <tr>\n",
       "      <th>Adult/Div/Wid/Low</th>\n",
       "      <td>407</td>\n",
       "      <td>18</td>\n",
       "    </tr>\n",
       "    <tr>\n",
       "      <th>Adult/Div/Wid/Mid</th>\n",
       "      <td>2136</td>\n",
       "      <td>193</td>\n",
       "    </tr>\n",
       "    <tr>\n",
       "      <th>Adult/Div/Wid/Up</th>\n",
       "      <td>339</td>\n",
       "      <td>35</td>\n",
       "    </tr>\n",
       "    <tr>\n",
       "      <th>Adult/Married/Dep/Low</th>\n",
       "      <td>12300</td>\n",
       "      <td>700</td>\n",
       "    </tr>\n",
       "    <tr>\n",
       "      <th>Adult/Married/Dep/Mid</th>\n",
       "      <td>52447</td>\n",
       "      <td>4844</td>\n",
       "    </tr>\n",
       "    <tr>\n",
       "      <th>Adult/Married/Dep/Up</th>\n",
       "      <td>5165</td>\n",
       "      <td>582</td>\n",
       "    </tr>\n",
       "    <tr>\n",
       "      <th>Adult/Single/Low</th>\n",
       "      <td>3771</td>\n",
       "      <td>240</td>\n",
       "    </tr>\n",
       "    <tr>\n",
       "      <th>Adult/Single/Mid</th>\n",
       "      <td>15467</td>\n",
       "      <td>1414</td>\n",
       "    </tr>\n",
       "    <tr>\n",
       "      <th>Adult/Single/Up</th>\n",
       "      <td>1376</td>\n",
       "      <td>181</td>\n",
       "    </tr>\n",
       "    <tr>\n",
       "      <th>Senior/Div/Wid/Low</th>\n",
       "      <td>1311</td>\n",
       "      <td>85</td>\n",
       "    </tr>\n",
       "    <tr>\n",
       "      <th>Senior/Div/Wid/Mid</th>\n",
       "      <td>7321</td>\n",
       "      <td>663</td>\n",
       "    </tr>\n",
       "    <tr>\n",
       "      <th>Senior/Div/Wid/Up</th>\n",
       "      <td>1202</td>\n",
       "      <td>121</td>\n",
       "    </tr>\n",
       "    <tr>\n",
       "      <th>Senior/Married/Dep/Low</th>\n",
       "      <td>4089</td>\n",
       "      <td>213</td>\n",
       "    </tr>\n",
       "    <tr>\n",
       "      <th>Senior/Married/Dep/Mid</th>\n",
       "      <td>22255</td>\n",
       "      <td>2082</td>\n",
       "    </tr>\n",
       "    <tr>\n",
       "      <th>Senior/Married/Dep/Up</th>\n",
       "      <td>3506</td>\n",
       "      <td>402</td>\n",
       "    </tr>\n",
       "    <tr>\n",
       "      <th>YA/Married/Dep/Low</th>\n",
       "      <td>1223</td>\n",
       "      <td>80</td>\n",
       "    </tr>\n",
       "    <tr>\n",
       "      <th>YA/Married/Dep/Mid</th>\n",
       "      <td>4004</td>\n",
       "      <td>369</td>\n",
       "    </tr>\n",
       "    <tr>\n",
       "      <th>YA/Married/Dep/Up</th>\n",
       "      <td>33</td>\n",
       "      <td>2</td>\n",
       "    </tr>\n",
       "    <tr>\n",
       "      <th>YA/Single/Low</th>\n",
       "      <td>938</td>\n",
       "      <td>64</td>\n",
       "    </tr>\n",
       "    <tr>\n",
       "      <th>YA/Single/Mid</th>\n",
       "      <td>3175</td>\n",
       "      <td>248</td>\n",
       "    </tr>\n",
       "    <tr>\n",
       "      <th>YA/Single/Up</th>\n",
       "      <td>16</td>\n",
       "      <td>6</td>\n",
       "    </tr>\n",
       "    <tr>\n",
       "      <th>YA/WithParents/Dep/Low</th>\n",
       "      <td>1586</td>\n",
       "      <td>108</td>\n",
       "    </tr>\n",
       "    <tr>\n",
       "      <th>YA/WithParents/Dep/Mid</th>\n",
       "      <td>5353</td>\n",
       "      <td>518</td>\n",
       "    </tr>\n",
       "    <tr>\n",
       "      <th>YA/WithParents/Dep/Up</th>\n",
       "      <td>36</td>\n",
       "      <td>7</td>\n",
       "    </tr>\n",
       "  </tbody>\n",
       "</table>\n",
       "</div>"
      ],
      "text/plain": [
       "pets                        0     1\n",
       "profile                            \n",
       "Adult/Div/Wid/Low         407    18\n",
       "Adult/Div/Wid/Mid        2136   193\n",
       "Adult/Div/Wid/Up          339    35\n",
       "Adult/Married/Dep/Low   12300   700\n",
       "Adult/Married/Dep/Mid   52447  4844\n",
       "Adult/Married/Dep/Up     5165   582\n",
       "Adult/Single/Low         3771   240\n",
       "Adult/Single/Mid        15467  1414\n",
       "Adult/Single/Up          1376   181\n",
       "Senior/Div/Wid/Low       1311    85\n",
       "Senior/Div/Wid/Mid       7321   663\n",
       "Senior/Div/Wid/Up        1202   121\n",
       "Senior/Married/Dep/Low   4089   213\n",
       "Senior/Married/Dep/Mid  22255  2082\n",
       "Senior/Married/Dep/Up    3506   402\n",
       "YA/Married/Dep/Low       1223    80\n",
       "YA/Married/Dep/Mid       4004   369\n",
       "YA/Married/Dep/Up          33     2\n",
       "YA/Single/Low             938    64\n",
       "YA/Single/Mid            3175   248\n",
       "YA/Single/Up               16     6\n",
       "YA/WithParents/Dep/Low   1586   108\n",
       "YA/WithParents/Dep/Mid   5353   518\n",
       "YA/WithParents/Dep/Up      36     7"
      ]
     },
     "execution_count": 55,
     "metadata": {},
     "output_type": "execute_result"
    }
   ],
   "source": [
    "pd.crosstab(customers['profile'], customers['pets'])"
   ]
  },
  {
   "cell_type": "code",
   "execution_count": 56,
   "id": "0a99205b",
   "metadata": {},
   "outputs": [
    {
     "data": {
      "text/html": [
       "<div>\n",
       "<style scoped>\n",
       "    .dataframe tbody tr th:only-of-type {\n",
       "        vertical-align: middle;\n",
       "    }\n",
       "\n",
       "    .dataframe tbody tr th {\n",
       "        vertical-align: top;\n",
       "    }\n",
       "\n",
       "    .dataframe thead th {\n",
       "        text-align: right;\n",
       "    }\n",
       "</style>\n",
       "<table border=\"1\" class=\"dataframe\">\n",
       "  <thead>\n",
       "    <tr style=\"text-align: right;\">\n",
       "      <th>baby</th>\n",
       "      <th>0</th>\n",
       "      <th>1</th>\n",
       "    </tr>\n",
       "    <tr>\n",
       "      <th>profile</th>\n",
       "      <th></th>\n",
       "      <th></th>\n",
       "    </tr>\n",
       "  </thead>\n",
       "  <tbody>\n",
       "    <tr>\n",
       "      <th>Adult/Div/Wid/Low</th>\n",
       "      <td>387</td>\n",
       "      <td>38</td>\n",
       "    </tr>\n",
       "    <tr>\n",
       "      <th>Adult/Div/Wid/Mid</th>\n",
       "      <td>1825</td>\n",
       "      <td>504</td>\n",
       "    </tr>\n",
       "    <tr>\n",
       "      <th>Adult/Div/Wid/Up</th>\n",
       "      <td>287</td>\n",
       "      <td>87</td>\n",
       "    </tr>\n",
       "    <tr>\n",
       "      <th>Adult/Married/Dep/Low</th>\n",
       "      <td>11573</td>\n",
       "      <td>1427</td>\n",
       "    </tr>\n",
       "    <tr>\n",
       "      <th>Adult/Married/Dep/Mid</th>\n",
       "      <td>45728</td>\n",
       "      <td>11563</td>\n",
       "    </tr>\n",
       "    <tr>\n",
       "      <th>Adult/Married/Dep/Up</th>\n",
       "      <td>4567</td>\n",
       "      <td>1180</td>\n",
       "    </tr>\n",
       "    <tr>\n",
       "      <th>Adult/Single/Low</th>\n",
       "      <td>3552</td>\n",
       "      <td>459</td>\n",
       "    </tr>\n",
       "    <tr>\n",
       "      <th>Adult/Single/Mid</th>\n",
       "      <td>13560</td>\n",
       "      <td>3321</td>\n",
       "    </tr>\n",
       "    <tr>\n",
       "      <th>Adult/Single/Up</th>\n",
       "      <td>1218</td>\n",
       "      <td>339</td>\n",
       "    </tr>\n",
       "    <tr>\n",
       "      <th>Senior/Div/Wid/Low</th>\n",
       "      <td>1257</td>\n",
       "      <td>139</td>\n",
       "    </tr>\n",
       "    <tr>\n",
       "      <th>Senior/Div/Wid/Mid</th>\n",
       "      <td>6389</td>\n",
       "      <td>1595</td>\n",
       "    </tr>\n",
       "    <tr>\n",
       "      <th>Senior/Div/Wid/Up</th>\n",
       "      <td>1064</td>\n",
       "      <td>259</td>\n",
       "    </tr>\n",
       "    <tr>\n",
       "      <th>Senior/Married/Dep/Low</th>\n",
       "      <td>3877</td>\n",
       "      <td>425</td>\n",
       "    </tr>\n",
       "    <tr>\n",
       "      <th>Senior/Married/Dep/Mid</th>\n",
       "      <td>19553</td>\n",
       "      <td>4784</td>\n",
       "    </tr>\n",
       "    <tr>\n",
       "      <th>Senior/Married/Dep/Up</th>\n",
       "      <td>3069</td>\n",
       "      <td>839</td>\n",
       "    </tr>\n",
       "    <tr>\n",
       "      <th>YA/Married/Dep/Low</th>\n",
       "      <td>1149</td>\n",
       "      <td>154</td>\n",
       "    </tr>\n",
       "    <tr>\n",
       "      <th>YA/Married/Dep/Mid</th>\n",
       "      <td>3500</td>\n",
       "      <td>873</td>\n",
       "    </tr>\n",
       "    <tr>\n",
       "      <th>YA/Married/Dep/Up</th>\n",
       "      <td>31</td>\n",
       "      <td>4</td>\n",
       "    </tr>\n",
       "    <tr>\n",
       "      <th>YA/Single/Low</th>\n",
       "      <td>863</td>\n",
       "      <td>139</td>\n",
       "    </tr>\n",
       "    <tr>\n",
       "      <th>YA/Single/Mid</th>\n",
       "      <td>2736</td>\n",
       "      <td>687</td>\n",
       "    </tr>\n",
       "    <tr>\n",
       "      <th>YA/Single/Up</th>\n",
       "      <td>12</td>\n",
       "      <td>10</td>\n",
       "    </tr>\n",
       "    <tr>\n",
       "      <th>YA/WithParents/Dep/Low</th>\n",
       "      <td>1498</td>\n",
       "      <td>196</td>\n",
       "    </tr>\n",
       "    <tr>\n",
       "      <th>YA/WithParents/Dep/Mid</th>\n",
       "      <td>4669</td>\n",
       "      <td>1202</td>\n",
       "    </tr>\n",
       "    <tr>\n",
       "      <th>YA/WithParents/Dep/Up</th>\n",
       "      <td>37</td>\n",
       "      <td>6</td>\n",
       "    </tr>\n",
       "  </tbody>\n",
       "</table>\n",
       "</div>"
      ],
      "text/plain": [
       "baby                        0      1\n",
       "profile                             \n",
       "Adult/Div/Wid/Low         387     38\n",
       "Adult/Div/Wid/Mid        1825    504\n",
       "Adult/Div/Wid/Up          287     87\n",
       "Adult/Married/Dep/Low   11573   1427\n",
       "Adult/Married/Dep/Mid   45728  11563\n",
       "Adult/Married/Dep/Up     4567   1180\n",
       "Adult/Single/Low         3552    459\n",
       "Adult/Single/Mid        13560   3321\n",
       "Adult/Single/Up          1218    339\n",
       "Senior/Div/Wid/Low       1257    139\n",
       "Senior/Div/Wid/Mid       6389   1595\n",
       "Senior/Div/Wid/Up        1064    259\n",
       "Senior/Married/Dep/Low   3877    425\n",
       "Senior/Married/Dep/Mid  19553   4784\n",
       "Senior/Married/Dep/Up    3069    839\n",
       "YA/Married/Dep/Low       1149    154\n",
       "YA/Married/Dep/Mid       3500    873\n",
       "YA/Married/Dep/Up          31      4\n",
       "YA/Single/Low             863    139\n",
       "YA/Single/Mid            2736    687\n",
       "YA/Single/Up               12     10\n",
       "YA/WithParents/Dep/Low   1498    196\n",
       "YA/WithParents/Dep/Mid   4669   1202\n",
       "YA/WithParents/Dep/Up      37      6"
      ]
     },
     "execution_count": 56,
     "metadata": {},
     "output_type": "execute_result"
    }
   ],
   "source": [
    "pd.crosstab(customers['profile'], customers['baby'])"
   ]
  },
  {
   "cell_type": "code",
   "execution_count": 57,
   "id": "34fad968",
   "metadata": {},
   "outputs": [
    {
     "data": {
      "text/html": [
       "<div>\n",
       "<style scoped>\n",
       "    .dataframe tbody tr th:only-of-type {\n",
       "        vertical-align: middle;\n",
       "    }\n",
       "\n",
       "    .dataframe tbody tr th {\n",
       "        vertical-align: top;\n",
       "    }\n",
       "\n",
       "    .dataframe thead tr th {\n",
       "        text-align: left;\n",
       "    }\n",
       "\n",
       "    .dataframe thead tr:last-of-type th {\n",
       "        text-align: right;\n",
       "    }\n",
       "</style>\n",
       "<table border=\"1\" class=\"dataframe\">\n",
       "  <thead>\n",
       "    <tr>\n",
       "      <th></th>\n",
       "      <th colspan=\"3\" halign=\"left\">median_days_prior</th>\n",
       "    </tr>\n",
       "    <tr>\n",
       "      <th></th>\n",
       "      <th>min</th>\n",
       "      <th>mean</th>\n",
       "      <th>max</th>\n",
       "    </tr>\n",
       "    <tr>\n",
       "      <th>profile</th>\n",
       "      <th></th>\n",
       "      <th></th>\n",
       "      <th></th>\n",
       "    </tr>\n",
       "  </thead>\n",
       "  <tbody>\n",
       "    <tr>\n",
       "      <th>Adult/Div/Wid/Low</th>\n",
       "      <td>1.00</td>\n",
       "      <td>14.73</td>\n",
       "      <td>30.00</td>\n",
       "    </tr>\n",
       "    <tr>\n",
       "      <th>Adult/Div/Wid/Mid</th>\n",
       "      <td>0.00</td>\n",
       "      <td>13.70</td>\n",
       "      <td>30.00</td>\n",
       "    </tr>\n",
       "    <tr>\n",
       "      <th>Adult/Div/Wid/Up</th>\n",
       "      <td>0.00</td>\n",
       "      <td>13.08</td>\n",
       "      <td>30.00</td>\n",
       "    </tr>\n",
       "    <tr>\n",
       "      <th>Adult/Married/Dep/Low</th>\n",
       "      <td>0.00</td>\n",
       "      <td>14.70</td>\n",
       "      <td>30.00</td>\n",
       "    </tr>\n",
       "    <tr>\n",
       "      <th>Adult/Married/Dep/Mid</th>\n",
       "      <td>0.00</td>\n",
       "      <td>13.61</td>\n",
       "      <td>30.00</td>\n",
       "    </tr>\n",
       "    <tr>\n",
       "      <th>Adult/Married/Dep/Up</th>\n",
       "      <td>0.00</td>\n",
       "      <td>13.38</td>\n",
       "      <td>30.00</td>\n",
       "    </tr>\n",
       "    <tr>\n",
       "      <th>Adult/Single/Low</th>\n",
       "      <td>0.00</td>\n",
       "      <td>14.75</td>\n",
       "      <td>30.00</td>\n",
       "    </tr>\n",
       "    <tr>\n",
       "      <th>Adult/Single/Mid</th>\n",
       "      <td>0.00</td>\n",
       "      <td>13.63</td>\n",
       "      <td>30.00</td>\n",
       "    </tr>\n",
       "    <tr>\n",
       "      <th>Adult/Single/Up</th>\n",
       "      <td>0.00</td>\n",
       "      <td>13.25</td>\n",
       "      <td>30.00</td>\n",
       "    </tr>\n",
       "    <tr>\n",
       "      <th>Senior/Div/Wid/Low</th>\n",
       "      <td>0.00</td>\n",
       "      <td>14.59</td>\n",
       "      <td>30.00</td>\n",
       "    </tr>\n",
       "    <tr>\n",
       "      <th>Senior/Div/Wid/Mid</th>\n",
       "      <td>0.50</td>\n",
       "      <td>13.45</td>\n",
       "      <td>30.00</td>\n",
       "    </tr>\n",
       "    <tr>\n",
       "      <th>Senior/Div/Wid/Up</th>\n",
       "      <td>1.00</td>\n",
       "      <td>13.56</td>\n",
       "      <td>30.00</td>\n",
       "    </tr>\n",
       "    <tr>\n",
       "      <th>Senior/Married/Dep/Low</th>\n",
       "      <td>0.00</td>\n",
       "      <td>14.55</td>\n",
       "      <td>30.00</td>\n",
       "    </tr>\n",
       "    <tr>\n",
       "      <th>Senior/Married/Dep/Mid</th>\n",
       "      <td>0.00</td>\n",
       "      <td>13.68</td>\n",
       "      <td>30.00</td>\n",
       "    </tr>\n",
       "    <tr>\n",
       "      <th>Senior/Married/Dep/Up</th>\n",
       "      <td>0.00</td>\n",
       "      <td>13.31</td>\n",
       "      <td>30.00</td>\n",
       "    </tr>\n",
       "    <tr>\n",
       "      <th>YA/Married/Dep/Low</th>\n",
       "      <td>0.00</td>\n",
       "      <td>14.20</td>\n",
       "      <td>30.00</td>\n",
       "    </tr>\n",
       "    <tr>\n",
       "      <th>YA/Married/Dep/Mid</th>\n",
       "      <td>0.00</td>\n",
       "      <td>13.52</td>\n",
       "      <td>30.00</td>\n",
       "    </tr>\n",
       "    <tr>\n",
       "      <th>YA/Married/Dep/Up</th>\n",
       "      <td>2.00</td>\n",
       "      <td>13.23</td>\n",
       "      <td>30.00</td>\n",
       "    </tr>\n",
       "    <tr>\n",
       "      <th>YA/Single/Low</th>\n",
       "      <td>0.00</td>\n",
       "      <td>14.82</td>\n",
       "      <td>30.00</td>\n",
       "    </tr>\n",
       "    <tr>\n",
       "      <th>YA/Single/Mid</th>\n",
       "      <td>0.00</td>\n",
       "      <td>13.72</td>\n",
       "      <td>30.00</td>\n",
       "    </tr>\n",
       "    <tr>\n",
       "      <th>YA/Single/Up</th>\n",
       "      <td>3.00</td>\n",
       "      <td>12.77</td>\n",
       "      <td>30.00</td>\n",
       "    </tr>\n",
       "    <tr>\n",
       "      <th>YA/WithParents/Dep/Low</th>\n",
       "      <td>0.00</td>\n",
       "      <td>14.50</td>\n",
       "      <td>30.00</td>\n",
       "    </tr>\n",
       "    <tr>\n",
       "      <th>YA/WithParents/Dep/Mid</th>\n",
       "      <td>0.00</td>\n",
       "      <td>13.48</td>\n",
       "      <td>30.00</td>\n",
       "    </tr>\n",
       "    <tr>\n",
       "      <th>YA/WithParents/Dep/Up</th>\n",
       "      <td>2.00</td>\n",
       "      <td>10.67</td>\n",
       "      <td>30.00</td>\n",
       "    </tr>\n",
       "  </tbody>\n",
       "</table>\n",
       "</div>"
      ],
      "text/plain": [
       "                       median_days_prior            \n",
       "                                     min  mean   max\n",
       "profile                                             \n",
       "Adult/Div/Wid/Low                   1.00 14.73 30.00\n",
       "Adult/Div/Wid/Mid                   0.00 13.70 30.00\n",
       "Adult/Div/Wid/Up                    0.00 13.08 30.00\n",
       "Adult/Married/Dep/Low               0.00 14.70 30.00\n",
       "Adult/Married/Dep/Mid               0.00 13.61 30.00\n",
       "Adult/Married/Dep/Up                0.00 13.38 30.00\n",
       "Adult/Single/Low                    0.00 14.75 30.00\n",
       "Adult/Single/Mid                    0.00 13.63 30.00\n",
       "Adult/Single/Up                     0.00 13.25 30.00\n",
       "Senior/Div/Wid/Low                  0.00 14.59 30.00\n",
       "Senior/Div/Wid/Mid                  0.50 13.45 30.00\n",
       "Senior/Div/Wid/Up                   1.00 13.56 30.00\n",
       "Senior/Married/Dep/Low              0.00 14.55 30.00\n",
       "Senior/Married/Dep/Mid              0.00 13.68 30.00\n",
       "Senior/Married/Dep/Up               0.00 13.31 30.00\n",
       "YA/Married/Dep/Low                  0.00 14.20 30.00\n",
       "YA/Married/Dep/Mid                  0.00 13.52 30.00\n",
       "YA/Married/Dep/Up                   2.00 13.23 30.00\n",
       "YA/Single/Low                       0.00 14.82 30.00\n",
       "YA/Single/Mid                       0.00 13.72 30.00\n",
       "YA/Single/Up                        3.00 12.77 30.00\n",
       "YA/WithParents/Dep/Low              0.00 14.50 30.00\n",
       "YA/WithParents/Dep/Mid              0.00 13.48 30.00\n",
       "YA/WithParents/Dep/Up               2.00 10.67 30.00"
      ]
     },
     "execution_count": 57,
     "metadata": {},
     "output_type": "execute_result"
    }
   ],
   "source": [
    "# View min, mean, and max of order frequency by profile\n",
    "customers.groupby('profile').agg({'median_days_prior':['min', 'mean', 'max']})"
   ]
  },
  {
   "cell_type": "markdown",
   "id": "c9f0f51a",
   "metadata": {},
   "source": [
    "### 13 Export Data"
   ]
  },
  {
   "cell_type": "code",
   "execution_count": 58,
   "id": "90f7cda0",
   "metadata": {},
   "outputs": [],
   "source": [
    "# Export dataframe\n",
    "df.to_pickle(os.path.join(path, '02 Data','Prepared Data', 'final_profile.pkl'))\n"
   ]
  }
 ],
 "metadata": {
  "kernelspec": {
   "display_name": "Python 3 (ipykernel)",
   "language": "python",
   "name": "python3"
  },
  "language_info": {
   "codemirror_mode": {
    "name": "ipython",
    "version": 3
   },
   "file_extension": ".py",
   "mimetype": "text/x-python",
   "name": "python",
   "nbconvert_exporter": "python",
   "pygments_lexer": "ipython3",
   "version": "3.9.12"
  }
 },
 "nbformat": 4,
 "nbformat_minor": 5
}
