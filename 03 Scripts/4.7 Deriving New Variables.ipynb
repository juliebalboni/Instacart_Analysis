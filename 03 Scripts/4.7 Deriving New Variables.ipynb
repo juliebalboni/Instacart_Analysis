{
 "cells": [
  {
   "cell_type": "markdown",
   "id": "ec0466cb",
   "metadata": {},
   "source": [
    "# 4.7 Deriving New Variables"
   ]
  },
  {
   "cell_type": "markdown",
   "id": "28c9aaec",
   "metadata": {},
   "source": [
    "### Contents\n",
    "01 Import Libraries and Data\n",
    "\n",
    "02 Create Subset of Data\n",
    "\n",
    "03 Create and Apply User-defined Function to Subset\n",
    "\n",
    "04 Use loc() Function on Subset\n",
    "\n",
    "05 Use loc() Function on Full Dataframe\n",
    "\n",
    "06 Create For Loop\n",
    "\n",
    "07 Task 4.7 Exercises\n",
    "\n",
    "08 Export ords_prods_merged to Pickle File"
   ]
  },
  {
   "cell_type": "markdown",
   "id": "193bfebb",
   "metadata": {},
   "source": [
    "### 01 Import Libraries and Data"
   ]
  },
  {
   "cell_type": "code",
   "execution_count": 1,
   "id": "03d8c369",
   "metadata": {},
   "outputs": [],
   "source": [
    "# Import libraries\n",
    "import pandas as pd\n",
    "import numpy as np\n",
    "import os"
   ]
  },
  {
   "cell_type": "code",
   "execution_count": 2,
   "id": "32c2b62f",
   "metadata": {},
   "outputs": [],
   "source": [
    "# Create path variable for main project folder\n",
    "path = r'D:\\JupyterProjects\\06-2022 Instacart Basket Analysis'"
   ]
  },
  {
   "cell_type": "code",
   "execution_count": 3,
   "id": "0288e2db",
   "metadata": {},
   "outputs": [],
   "source": [
    "# Use path variable to import orders_products_merged.pkl as ords_prods_merged\n",
    "ords_prods_merged = pd.read_pickle(os.path.join(path, '02 Data', 'Prepared Data', 'orders_products_merged.pkl'))"
   ]
  },
  {
   "cell_type": "code",
   "execution_count": 4,
   "id": "e5d125fc",
   "metadata": {},
   "outputs": [
    {
     "data": {
      "text/plain": [
       "(32404859, 15)"
      ]
     },
     "execution_count": 4,
     "metadata": {},
     "output_type": "execute_result"
    }
   ],
   "source": [
    "ords_prods_merged.shape"
   ]
  },
  {
   "cell_type": "markdown",
   "id": "a9e4da8d",
   "metadata": {},
   "source": [
    "### 02 Create Subset of Data"
   ]
  },
  {
   "cell_type": "code",
   "execution_count": 5,
   "id": "923fb517",
   "metadata": {},
   "outputs": [],
   "source": [
    "# Use a subset of 1,000,000 rows\n",
    "df = ords_prods_merged[:1000000]"
   ]
  },
  {
   "cell_type": "code",
   "execution_count": 6,
   "id": "830676a9",
   "metadata": {},
   "outputs": [
    {
     "data": {
      "text/plain": [
       "(1000000, 15)"
      ]
     },
     "execution_count": 6,
     "metadata": {},
     "output_type": "execute_result"
    }
   ],
   "source": [
    "df.shape"
   ]
  },
  {
   "cell_type": "markdown",
   "id": "68d83c1e",
   "metadata": {},
   "source": [
    "### 03 Create and Apply User-defined Function to Subset"
   ]
  },
  {
   "cell_type": "code",
   "execution_count": 7,
   "id": "3e23aca5",
   "metadata": {},
   "outputs": [],
   "source": [
    "# Create user-defined function price_label\n",
    "def price_label(row):\n",
    "\n",
    "  if row['prices'] <= 5:\n",
    "    return 'Low-range product'\n",
    "  elif (row['prices'] > 5) and (row['prices'] <= 15):\n",
    "    return 'Mid-range product'\n",
    "  elif row['prices'] > 15:\n",
    "    return 'High range'\n",
    "  else: return 'Not enough data'"
   ]
  },
  {
   "cell_type": "code",
   "execution_count": 8,
   "id": "1c378415",
   "metadata": {},
   "outputs": [
    {
     "name": "stderr",
     "output_type": "stream",
     "text": [
      "C:\\Users\\julie_y9025s2\\AppData\\Local\\Temp\\ipykernel_14884\\2926912357.py:2: SettingWithCopyWarning: \n",
      "A value is trying to be set on a copy of a slice from a DataFrame.\n",
      "Try using .loc[row_indexer,col_indexer] = value instead\n",
      "\n",
      "See the caveats in the documentation: https://pandas.pydata.org/pandas-docs/stable/user_guide/indexing.html#returning-a-view-versus-a-copy\n",
      "  df['price_range'] = df.apply(price_label, axis=1)\n"
     ]
    }
   ],
   "source": [
    "# Apply user-defined function\n",
    "df['price_range'] = df.apply(price_label, axis=1)"
   ]
  },
  {
   "cell_type": "code",
   "execution_count": 9,
   "id": "bed95c54",
   "metadata": {},
   "outputs": [
    {
     "data": {
      "text/plain": [
       "price_range      \n",
       "Mid-range product    756450\n",
       "Low-range product    243550\n",
       "dtype: int64"
      ]
     },
     "execution_count": 9,
     "metadata": {},
     "output_type": "execute_result"
    }
   ],
   "source": [
    "# Check frequencies for values in new column\n",
    "df.value_counts(['price_range'])"
   ]
  },
  {
   "cell_type": "code",
   "execution_count": 10,
   "id": "47805a7e",
   "metadata": {},
   "outputs": [
    {
     "data": {
      "text/plain": [
       "14.8"
      ]
     },
     "execution_count": 10,
     "metadata": {},
     "output_type": "execute_result"
    }
   ],
   "source": [
    "# Find the maximum value for the price_range column\n",
    "df['prices'].max()"
   ]
  },
  {
   "cell_type": "markdown",
   "id": "33221d97",
   "metadata": {},
   "source": [
    "### 04 Use loc() Function on Subset"
   ]
  },
  {
   "cell_type": "code",
   "execution_count": 11,
   "id": "325be932",
   "metadata": {},
   "outputs": [
    {
     "name": "stderr",
     "output_type": "stream",
     "text": [
      "C:\\Users\\julie_y9025s2\\AppData\\Local\\Temp\\ipykernel_14884\\1169838859.py:1: SettingWithCopyWarning: \n",
      "A value is trying to be set on a copy of a slice from a DataFrame.\n",
      "Try using .loc[row_indexer,col_indexer] = value instead\n",
      "\n",
      "See the caveats in the documentation: https://pandas.pydata.org/pandas-docs/stable/user_guide/indexing.html#returning-a-view-versus-a-copy\n",
      "  df.loc[df['prices'] > 15, 'price_range_loc'] = 'High-range product'\n"
     ]
    }
   ],
   "source": [
    "df.loc[df['prices'] > 15, 'price_range_loc'] = 'High-range product'"
   ]
  },
  {
   "cell_type": "code",
   "execution_count": 12,
   "id": "7291e960",
   "metadata": {},
   "outputs": [],
   "source": [
    "df.loc[(df['prices'] <= 15) & (df['prices'] > 5), 'price_range_loc'] = 'Mid-range product'"
   ]
  },
  {
   "cell_type": "code",
   "execution_count": 13,
   "id": "d1c6ef7b",
   "metadata": {},
   "outputs": [],
   "source": [
    "df.loc[df['prices'] <= 5, 'price_range_loc'] = 'Low-range product'"
   ]
  },
  {
   "cell_type": "code",
   "execution_count": 14,
   "id": "47bcf5d1",
   "metadata": {},
   "outputs": [
    {
     "data": {
      "text/plain": [
       "price_range_loc  \n",
       "Mid-range product    756450\n",
       "Low-range product    243550\n",
       "dtype: int64"
      ]
     },
     "execution_count": 14,
     "metadata": {},
     "output_type": "execute_result"
    }
   ],
   "source": [
    "df.value_counts(['price_range_loc'])"
   ]
  },
  {
   "cell_type": "markdown",
   "id": "cdc74783",
   "metadata": {},
   "source": [
    "### 05 Use loc() Function on Full Dataframe"
   ]
  },
  {
   "cell_type": "code",
   "execution_count": 15,
   "id": "0047eeeb",
   "metadata": {},
   "outputs": [],
   "source": [
    "# Use loc() on ords_prods_merge dataframe\n",
    "ords_prods_merged.loc[ords_prods_merged['prices'] > 15, 'price_range_loc'] = 'High-range product'"
   ]
  },
  {
   "cell_type": "code",
   "execution_count": 16,
   "id": "5d06814f",
   "metadata": {},
   "outputs": [],
   "source": [
    "ords_prods_merged.loc[(ords_prods_merged['prices'] <= 15) & (ords_prods_merged['prices'] > 5), 'price_range_loc'] = 'Mid-range product'"
   ]
  },
  {
   "cell_type": "code",
   "execution_count": 17,
   "id": "a8a351b0",
   "metadata": {},
   "outputs": [],
   "source": [
    "ords_prods_merged.loc[ords_prods_merged['prices'] <= 5, 'price_range_loc'] = 'Low-range product'"
   ]
  },
  {
   "cell_type": "code",
   "execution_count": 18,
   "id": "81f06df7",
   "metadata": {},
   "outputs": [
    {
     "data": {
      "text/plain": [
       "Mid-range product     21860860\n",
       "Low-range product     10126321\n",
       "High-range product      417678\n",
       "Name: price_range_loc, dtype: int64"
      ]
     },
     "execution_count": 18,
     "metadata": {},
     "output_type": "execute_result"
    }
   ],
   "source": [
    "# Count products by price range\n",
    "ords_prods_merged['price_range_loc'].value_counts(dropna = False)"
   ]
  },
  {
   "cell_type": "markdown",
   "id": "e47ee1df",
   "metadata": {},
   "source": [
    "### 06 Create For Loop"
   ]
  },
  {
   "cell_type": "code",
   "execution_count": 19,
   "id": "85273bd8",
   "metadata": {},
   "outputs": [
    {
     "data": {
      "text/plain": [
       "0    6204182\n",
       "1    5660230\n",
       "6    4496490\n",
       "2    4213830\n",
       "5    4205791\n",
       "3    3840534\n",
       "4    3783802\n",
       "Name: orders_day_of_week, dtype: int64"
      ]
     },
     "execution_count": 19,
     "metadata": {},
     "output_type": "execute_result"
    }
   ],
   "source": [
    "# Count orders by day of week\n",
    "ords_prods_merged['orders_day_of_week'].value_counts(dropna = False)\n"
   ]
  },
  {
   "cell_type": "code",
   "execution_count": 20,
   "id": "5b8833d5",
   "metadata": {},
   "outputs": [],
   "source": [
    "# Create result list\n",
    "result = []\n",
    "\n",
    "for value in ords_prods_merged[\"orders_day_of_week\"]:\n",
    "  if value == 0:\n",
    "    result.append(\"Busiest day\")\n",
    "  elif value == 4:\n",
    "    result.append(\"Least busy\")\n",
    "  else:\n",
    "    result.append(\"Regularly busy\")"
   ]
  },
  {
   "cell_type": "code",
   "execution_count": 21,
   "id": "3ffe5c0e",
   "metadata": {},
   "outputs": [
    {
     "data": {
      "text/plain": [
       "32404859"
      ]
     },
     "execution_count": 21,
     "metadata": {},
     "output_type": "execute_result"
    }
   ],
   "source": [
    "# View length of result list\n",
    "len(result)"
   ]
  },
  {
   "cell_type": "code",
   "execution_count": 22,
   "id": "1ba7e23f",
   "metadata": {},
   "outputs": [],
   "source": [
    "# Create new column and set = to result"
   ]
  },
  {
   "cell_type": "code",
   "execution_count": 23,
   "id": "6b3feb69",
   "metadata": {},
   "outputs": [],
   "source": [
    "ords_prods_merged['busiest_day'] = result"
   ]
  },
  {
   "cell_type": "code",
   "execution_count": 24,
   "id": "8124c4c7",
   "metadata": {},
   "outputs": [
    {
     "data": {
      "text/plain": [
       "Regularly busy    22416875\n",
       "Busiest day        6204182\n",
       "Least busy         3783802\n",
       "Name: busiest_day, dtype: int64"
      ]
     },
     "execution_count": 24,
     "metadata": {},
     "output_type": "execute_result"
    }
   ],
   "source": [
    "ords_prods_merged['busiest_day'].value_counts(dropna = False)"
   ]
  },
  {
   "cell_type": "markdown",
   "id": "d60bc598",
   "metadata": {},
   "source": [
    "### 07 Task 4.7 Exercises"
   ]
  },
  {
   "cell_type": "markdown",
   "id": "5d00f95f",
   "metadata": {},
   "source": [
    "Suppose your clients have changed their minds about the labels you created in your “busiest_day” column. Now, they want “Busiest day” to become “Busiest days” (plural). This label should correspond with the two busiest days of the week as opposed to the single busiest day. At the same time, they’d also like to know the two slowest days. Create a new column for this using a suitable method."
   ]
  },
  {
   "cell_type": "code",
   "execution_count": 25,
   "id": "7e9c008a",
   "metadata": {},
   "outputs": [],
   "source": [
    "# Create new result variable\n",
    "result2 = []\n",
    "\n",
    "for value in ords_prods_merged['orders_day_of_week']:\n",
    "  if value in [0, 1]:\n",
    "    result2.append(\"Busiest days\")\n",
    "  elif value in [3, 4]:\n",
    "    result2.append(\"Slowest days\")\n",
    "  else:\n",
    "    result2.append(\"Regularly busy\")"
   ]
  },
  {
   "cell_type": "code",
   "execution_count": 26,
   "id": "365d34ae",
   "metadata": {},
   "outputs": [],
   "source": [
    "# Create new column for busiest days\n",
    "ords_prods_merged['busiest_days'] = result2"
   ]
  },
  {
   "cell_type": "code",
   "execution_count": 27,
   "id": "e4a772b7",
   "metadata": {},
   "outputs": [
    {
     "data": {
      "text/plain": [
       "Regularly busy    12916111\n",
       "Busiest days      11864412\n",
       "Slowest days       7624336\n",
       "Name: busiest_days, dtype: int64"
      ]
     },
     "execution_count": 27,
     "metadata": {},
     "output_type": "execute_result"
    }
   ],
   "source": [
    "# View frequency results\n",
    "ords_prods_merged['busiest_days'].value_counts(dropna = False)"
   ]
  },
  {
   "cell_type": "markdown",
   "id": "b6c30dd8",
   "metadata": {},
   "source": [
    "Check the values of this new column for accuracy. Note any observations in markdown format."
   ]
  },
  {
   "cell_type": "code",
   "execution_count": 28,
   "id": "815f1726",
   "metadata": {},
   "outputs": [
    {
     "data": {
      "text/plain": [
       "11864412"
      ]
     },
     "execution_count": 28,
     "metadata": {},
     "output_type": "execute_result"
    }
   ],
   "source": [
    "# Check sum of busiest days\n",
    "6204182+5660230"
   ]
  },
  {
   "cell_type": "code",
   "execution_count": 29,
   "id": "a319f4ce",
   "metadata": {},
   "outputs": [
    {
     "data": {
      "text/plain": [
       "7624336"
      ]
     },
     "execution_count": 29,
     "metadata": {},
     "output_type": "execute_result"
    }
   ],
   "source": [
    "# Check sum of slowest days\n",
    "3840534+3783802"
   ]
  },
  {
   "cell_type": "code",
   "execution_count": 30,
   "id": "43ee0748",
   "metadata": {},
   "outputs": [
    {
     "data": {
      "text/plain": [
       "12916111"
      ]
     },
     "execution_count": 30,
     "metadata": {},
     "output_type": "execute_result"
    }
   ],
   "source": [
    "# Check sum of regularly busy days\n",
    "4213830+4205791+4496490"
   ]
  },
  {
   "cell_type": "markdown",
   "id": "4fa3df1c",
   "metadata": {},
   "source": [
    "Sum values are as expected."
   ]
  },
  {
   "cell_type": "markdown",
   "id": "07457dad",
   "metadata": {},
   "source": [
    "When too many users make Instacart orders at the same time, the app freezes. The senior technical officer at Instacart wants you to identify the busiest hours of the day. Rather than by hour, they want periods of time labeled “Most orders,” “Average orders,” and “Fewest orders.” Create a new column containing these labels called “busiest_period_of_day.”"
   ]
  },
  {
   "cell_type": "code",
   "execution_count": 31,
   "id": "099cf023",
   "metadata": {},
   "outputs": [
    {
     "data": {
      "text/plain": [
       "Index(['order_id', 'user_id', 'order_number', 'orders_day_of_week',\n",
       "       'order_hour_of_day', 'days_since_prior_order', 'new_customer',\n",
       "       'product_id', 'add_to_cart_order', 'reordered', 'product_name',\n",
       "       'aisle_id', 'department_id', 'prices', '_merge', 'price_range_loc',\n",
       "       'busiest_day', 'busiest_days'],\n",
       "      dtype='object')"
      ]
     },
     "execution_count": 31,
     "metadata": {},
     "output_type": "execute_result"
    }
   ],
   "source": [
    "# View column names\n",
    "ords_prods_merged.columns"
   ]
  },
  {
   "cell_type": "code",
   "execution_count": 32,
   "id": "2ec8b481",
   "metadata": {},
   "outputs": [
    {
     "data": {
      "text/plain": [
       "10    2761760\n",
       "11    2736140\n",
       "14    2689136\n",
       "15    2662144\n",
       "13    2660954\n",
       "12    2618532\n",
       "16    2535202\n",
       "9     2454203\n",
       "17    2087654\n",
       "8     1718118\n",
       "18    1636502\n",
       "19    1258305\n",
       "20     976156\n",
       "7      891054\n",
       "21     795637\n",
       "22     634225\n",
       "23     402316\n",
       "6      290493\n",
       "0      218769\n",
       "1      115700\n",
       "5       87961\n",
       "2       69375\n",
       "4       53242\n",
       "3       51281\n",
       "Name: order_hour_of_day, dtype: int64"
      ]
     },
     "execution_count": 32,
     "metadata": {},
     "output_type": "execute_result"
    }
   ],
   "source": [
    "# View frequency for order_hour_of_day\n",
    "ords_prods_merged['order_hour_of_day'].value_counts(dropna = False)"
   ]
  },
  {
   "cell_type": "code",
   "execution_count": 33,
   "id": "ff631324",
   "metadata": {},
   "outputs": [],
   "source": [
    "# Create new list variable\n",
    "busyhours = []\n",
    "\n",
    "for value in ords_prods_merged['order_hour_of_day']:\n",
    "  if value == 10:\n",
    "    busyhours.append('Most orders')\n",
    "  elif value == 3:\n",
    "    busyhours.append('Fewest orders')\n",
    "  else:\n",
    "    busyhours.append('Average orders')"
   ]
  },
  {
   "cell_type": "code",
   "execution_count": 34,
   "id": "1ecfaa93",
   "metadata": {},
   "outputs": [],
   "source": [
    "# Create new column for busiest period of day\n",
    "ords_prods_merged['busiest_period_of_day'] = busyhours"
   ]
  },
  {
   "cell_type": "markdown",
   "id": "4a72378b",
   "metadata": {},
   "source": [
    "Print the frequency for this new column."
   ]
  },
  {
   "cell_type": "code",
   "execution_count": 35,
   "id": "940ada1c",
   "metadata": {},
   "outputs": [
    {
     "data": {
      "text/plain": [
       "Average orders    29591818\n",
       "Most orders        2761760\n",
       "Fewest orders        51281\n",
       "Name: busiest_period_of_day, dtype: int64"
      ]
     },
     "execution_count": 35,
     "metadata": {},
     "output_type": "execute_result"
    }
   ],
   "source": [
    "# View frequency results\n",
    "ords_prods_merged['busiest_period_of_day'].value_counts(dropna = False)"
   ]
  },
  {
   "cell_type": "markdown",
   "id": "5d9338ec",
   "metadata": {},
   "source": [
    "### 08 Export ords_prods_merged to Pickle File"
   ]
  },
  {
   "cell_type": "code",
   "execution_count": 36,
   "id": "8173336f",
   "metadata": {},
   "outputs": [],
   "source": [
    "ords_prods_merged.to_pickle(os.path.join(path, 'ords_prods_merged.pkl'))"
   ]
  }
 ],
 "metadata": {
  "kernelspec": {
   "display_name": "Python 3 (ipykernel)",
   "language": "python",
   "name": "python3"
  },
  "language_info": {
   "codemirror_mode": {
    "name": "ipython",
    "version": 3
   },
   "file_extension": ".py",
   "mimetype": "text/x-python",
   "name": "python",
   "nbconvert_exporter": "python",
   "pygments_lexer": "ipython3",
   "version": "3.9.12"
  }
 },
 "nbformat": 4,
 "nbformat_minor": 5
}
